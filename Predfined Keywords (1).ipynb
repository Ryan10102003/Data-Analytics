{
 "cells": [
  {
   "cell_type": "code",
   "execution_count": 1,
   "id": "3a58fa2b-d06e-45d9-97b4-6c3fc81bb4a6",
   "metadata": {},
   "outputs": [
    {
     "name": "stdout",
     "output_type": "stream",
     "text": [
      "Hello World\n"
     ]
    }
   ],
   "source": [
    "print(\"Hello World\")"
   ]
  },
  {
   "cell_type": "code",
   "execution_count": 2,
   "id": "2893d167-58ac-44a2-99b7-a66bc7c85f3b",
   "metadata": {},
   "outputs": [],
   "source": [
    "A = 3"
   ]
  },
  {
   "cell_type": "code",
   "execution_count": 3,
   "id": "8912280f-266f-4402-8d3f-6e6bc3f1c0be",
   "metadata": {},
   "outputs": [
    {
     "data": {
      "text/plain": [
       "3"
      ]
     },
     "execution_count": 3,
     "metadata": {},
     "output_type": "execute_result"
    }
   ],
   "source": [
    "A"
   ]
  },
  {
   "cell_type": "raw",
   "id": "0c6343af-f83a-4425-92fd-965806a7499f",
   "metadata": {},
   "source": [
    "## Variables/Identifiers >> placeholders where we keep variety of data which we can use write logic.\n",
    "## Number >> Integers/Floats\n",
    "## Characters >> String in Python\n",
    "# True/False >> Boolean\n",
    "## None\n",
    "## Complex\n"
   ]
  },
  {
   "cell_type": "code",
   "execution_count": 4,
   "id": "e96f3956-39be-46f3-a1c2-b98b9e361153",
   "metadata": {},
   "outputs": [],
   "source": [
    "b = 3"
   ]
  },
  {
   "cell_type": "code",
   "execution_count": 5,
   "id": "a71622e5-ba30-4e7d-a9a9-704c21f854c7",
   "metadata": {},
   "outputs": [
    {
     "data": {
      "text/plain": [
       "3"
      ]
     },
     "execution_count": 5,
     "metadata": {},
     "output_type": "execute_result"
    }
   ],
   "source": [
    "b"
   ]
  },
  {
   "cell_type": "raw",
   "id": "fa5edb47-979f-4c6b-9420-2d49217facbc",
   "metadata": {},
   "source": [
    "## Variables is a reserved Memory space for storing value"
   ]
  },
  {
   "cell_type": "code",
   "execution_count": 6,
   "id": "71b17af8-fcb5-43f1-a5eb-cec5edaa8a32",
   "metadata": {},
   "outputs": [
    {
     "data": {
      "text/plain": [
       "3"
      ]
     },
     "execution_count": 6,
     "metadata": {},
     "output_type": "execute_result"
    }
   ],
   "source": [
    "b "
   ]
  },
  {
   "cell_type": "code",
   "execution_count": 7,
   "id": "87390f9b-3c8e-408e-8d21-bcb8fa364ac3",
   "metadata": {},
   "outputs": [
    {
     "data": {
      "text/plain": [
       "3"
      ]
     },
     "execution_count": 7,
     "metadata": {},
     "output_type": "execute_result"
    }
   ],
   "source": [
    "b"
   ]
  },
  {
   "cell_type": "raw",
   "id": "775f21d4-e830-4a7c-b50d-3233fc7a29e1",
   "metadata": {},
   "source": [
    "A memory space will be created with value of the variable"
   ]
  },
  {
   "cell_type": "code",
   "execution_count": 8,
   "id": "afc05bb0-3ba7-4f9b-94c3-3c95a9a82d83",
   "metadata": {},
   "outputs": [],
   "source": [
    "c = \"Ryan\""
   ]
  },
  {
   "cell_type": "code",
   "execution_count": 9,
   "id": "f6fb0c3d-7de9-487f-811e-7001668e9911",
   "metadata": {},
   "outputs": [
    {
     "data": {
      "text/plain": [
       "'Ryan'"
      ]
     },
     "execution_count": 9,
     "metadata": {},
     "output_type": "execute_result"
    }
   ],
   "source": [
    "c"
   ]
  },
  {
   "cell_type": "code",
   "execution_count": 10,
   "id": "777236be-e1d1-4b2d-b591-994a497ac68b",
   "metadata": {},
   "outputs": [
    {
     "data": {
      "text/plain": [
       "str"
      ]
     },
     "execution_count": 10,
     "metadata": {},
     "output_type": "execute_result"
    }
   ],
   "source": [
    "type(c)"
   ]
  },
  {
   "cell_type": "code",
   "execution_count": 11,
   "id": "ac410256-9e23-424c-8029-d90706d07267",
   "metadata": {},
   "outputs": [
    {
     "data": {
      "text/plain": [
       "int"
      ]
     },
     "execution_count": 11,
     "metadata": {},
     "output_type": "execute_result"
    }
   ],
   "source": [
    "type(A)"
   ]
  },
  {
   "cell_type": "code",
   "execution_count": 12,
   "id": "83a89fb4-4569-4d92-9546-b4e49a6f42a2",
   "metadata": {},
   "outputs": [
    {
     "data": {
      "text/plain": [
       "int"
      ]
     },
     "execution_count": 12,
     "metadata": {},
     "output_type": "execute_result"
    }
   ],
   "source": [
    "type(b)"
   ]
  },
  {
   "cell_type": "code",
   "execution_count": 13,
   "id": "c69993b2-e8d7-4440-b88b-4006502bae3a",
   "metadata": {},
   "outputs": [
    {
     "data": {
      "text/plain": [
       "bool"
      ]
     },
     "execution_count": 13,
     "metadata": {},
     "output_type": "execute_result"
    }
   ],
   "source": [
    "c = True\n",
    "type(c)"
   ]
  },
  {
   "cell_type": "code",
   "execution_count": 14,
   "id": "1ce1e8d0-2c40-4a2f-abe7-e66b14d6f18b",
   "metadata": {},
   "outputs": [
    {
     "data": {
      "text/plain": [
       "bool"
      ]
     },
     "execution_count": 14,
     "metadata": {},
     "output_type": "execute_result"
    }
   ],
   "source": [
    "d = False\n",
    "type(d)"
   ]
  },
  {
   "cell_type": "code",
   "execution_count": 15,
   "id": "3c611b77-8085-4f92-b61f-e19a140ce4a1",
   "metadata": {},
   "outputs": [
    {
     "data": {
      "text/plain": [
       "1"
      ]
     },
     "execution_count": 15,
     "metadata": {},
     "output_type": "execute_result"
    }
   ],
   "source": [
    "True-False"
   ]
  },
  {
   "cell_type": "code",
   "execution_count": 16,
   "id": "cc407648-0984-4199-b8cf-227a6f540f4e",
   "metadata": {},
   "outputs": [
    {
     "data": {
      "text/plain": [
       "0"
      ]
     },
     "execution_count": 16,
     "metadata": {},
     "output_type": "execute_result"
    }
   ],
   "source": [
    "True*False"
   ]
  },
  {
   "cell_type": "raw",
   "id": "f8e32795-bdcf-4788-bfe9-04ff0d7ee8fa",
   "metadata": {},
   "source": [
    "True/False It will throw an error "
   ]
  },
  {
   "cell_type": "code",
   "execution_count": 17,
   "id": "eac591c2-db44-4fe5-8fe5-1f62a6d1d598",
   "metadata": {},
   "outputs": [],
   "source": [
    "f = None"
   ]
  },
  {
   "cell_type": "code",
   "execution_count": 18,
   "id": "80dbb6e5-4828-4894-a023-9b6e07d9135b",
   "metadata": {},
   "outputs": [],
   "source": [
    "f"
   ]
  },
  {
   "cell_type": "code",
   "execution_count": 19,
   "id": "e6679ec7-793b-4e50-afd2-c6e53216bba8",
   "metadata": {},
   "outputs": [
    {
     "data": {
      "text/plain": [
       "NoneType"
      ]
     },
     "execution_count": 19,
     "metadata": {},
     "output_type": "execute_result"
    }
   ],
   "source": [
    "type(f)"
   ]
  },
  {
   "cell_type": "raw",
   "id": "c432afb0-a585-45f7-a5ad-9fd00dc0a5fd",
   "metadata": {},
   "source": [
    "x+iy >> Complex no "
   ]
  },
  {
   "cell_type": "code",
   "execution_count": 20,
   "id": "749ec9aa-c22a-46a0-8d85-e5483b1c7798",
   "metadata": {},
   "outputs": [],
   "source": [
    "com = 5+6j"
   ]
  },
  {
   "cell_type": "code",
   "execution_count": 21,
   "id": "88d04ca0-31ee-4ce8-8533-5f16e342bbcc",
   "metadata": {},
   "outputs": [
    {
     "data": {
      "text/plain": [
       "complex"
      ]
     },
     "execution_count": 21,
     "metadata": {},
     "output_type": "execute_result"
    }
   ],
   "source": [
    "type(com)"
   ]
  },
  {
   "cell_type": "code",
   "execution_count": 22,
   "id": "7301e952-e27d-485f-ab4f-2e56027200f3",
   "metadata": {},
   "outputs": [
    {
     "data": {
      "text/plain": [
       "5.0"
      ]
     },
     "execution_count": 22,
     "metadata": {},
     "output_type": "execute_result"
    }
   ],
   "source": [
    "com.real"
   ]
  },
  {
   "cell_type": "code",
   "execution_count": 23,
   "id": "d74b1747-bd15-4b13-9418-f0d76ca20ef3",
   "metadata": {},
   "outputs": [
    {
     "data": {
      "text/plain": [
       "6.0"
      ]
     },
     "execution_count": 23,
     "metadata": {},
     "output_type": "execute_result"
    }
   ],
   "source": [
    "com.imag"
   ]
  },
  {
   "cell_type": "raw",
   "id": "029d3f23-6d40-4717-9134-3b13b7d17096",
   "metadata": {},
   "source": [
    "## Rules of defining a variable >> A Variable start with a letter(alphabet) or underscore or character. "
   ]
  },
  {
   "cell_type": "code",
   "execution_count": 24,
   "id": "003ca11f-72fb-420b-b30b-23c6dc5d9f63",
   "metadata": {},
   "outputs": [
    {
     "ename": "SyntaxError",
     "evalue": "cannot assign to literal here. Maybe you meant '==' instead of '='? (2414822714.py, line 1)",
     "output_type": "error",
     "traceback": [
      "  \u001b[36mCell\u001b[39m\u001b[36m \u001b[39m\u001b[32mIn[24]\u001b[39m\u001b[32m, line 1\u001b[39m\n\u001b[31m    \u001b[39m\u001b[31m5 = a\u001b[39m\n    ^\n\u001b[31mSyntaxError\u001b[39m\u001b[31m:\u001b[39m cannot assign to literal here. Maybe you meant '==' instead of '='?\n"
     ]
    }
   ],
   "source": [
    "5 = a"
   ]
  },
  {
   "cell_type": "code",
   "execution_count": null,
   "id": "5fd96d31-260f-4a2d-b6c9-e1dc391309d5",
   "metadata": {},
   "outputs": [],
   "source": [
    "2.3 = b"
   ]
  },
  {
   "cell_type": "code",
   "execution_count": null,
   "id": "10e48a5f-fee2-43f3-837a-acd87dde0804",
   "metadata": {},
   "outputs": [],
   "source": [
    "1 = abc"
   ]
  },
  {
   "cell_type": "code",
   "execution_count": null,
   "id": "ce1e9df2-03d2-4f03-aaf7-e2863214c688",
   "metadata": {},
   "outputs": [],
   "source": [
    "name = \"Ryan\""
   ]
  },
  {
   "cell_type": "code",
   "execution_count": null,
   "id": "da45100b-841c-4d3c-a771-8d5fec8ee330",
   "metadata": {},
   "outputs": [],
   "source": [
    "name"
   ]
  },
  {
   "cell_type": "code",
   "execution_count": null,
   "id": "e225fad4-d73f-476a-bc27-f631a6009786",
   "metadata": {},
   "outputs": [],
   "source": [
    "## Ryan Chettiar"
   ]
  },
  {
   "cell_type": "code",
   "execution_count": null,
   "id": "3e2e3d03-a399-424b-8adc-0911436dba60",
   "metadata": {},
   "outputs": [],
   "source": [
    "a = 3"
   ]
  },
  {
   "cell_type": "code",
   "execution_count": null,
   "id": "3f7e256b-552f-4b65-8814-dd4cb25b46c8",
   "metadata": {},
   "outputs": [],
   "source": [
    "a"
   ]
  },
  {
   "cell_type": "code",
   "execution_count": null,
   "id": "826bd3b8-6e87-490a-b212-10983dbccc49",
   "metadata": {},
   "outputs": [],
   "source": [
    "True*False"
   ]
  },
  {
   "cell_type": "code",
   "execution_count": null,
   "id": "0055e586-6f5b-4d10-ba31-147f001a0e0c",
   "metadata": {},
   "outputs": [],
   "source": [
    "A"
   ]
  },
  {
   "cell_type": "code",
   "execution_count": null,
   "id": "cd9aabbe-41e5-4f25-9abe-79730cf3bd67",
   "metadata": {},
   "outputs": [],
   "source": [
    "a = 10"
   ]
  },
  {
   "cell_type": "code",
   "execution_count": null,
   "id": "8112474d-c4b1-452e-ab6f-f992d19f3f4a",
   "metadata": {},
   "outputs": [],
   "source": [
    "type(a)"
   ]
  },
  {
   "cell_type": "code",
   "execution_count": null,
   "id": "16eaae2f-3fdc-4e6e-9a72-3185b31de74b",
   "metadata": {},
   "outputs": [],
   "source": [
    "name = \"Ryan\"\n",
    "type(name)"
   ]
  },
  {
   "cell_type": "code",
   "execution_count": null,
   "id": "368d05ff-3c78-4486-a9f0-18c143a40a64",
   "metadata": {},
   "outputs": [],
   "source": [
    "a = 2.5"
   ]
  },
  {
   "cell_type": "code",
   "execution_count": null,
   "id": "37da3abf-04cd-48da-bb87-d96286124a58",
   "metadata": {},
   "outputs": [],
   "source": [
    "a"
   ]
  },
  {
   "cell_type": "code",
   "execution_count": null,
   "id": "546e9397-da07-462f-a0bf-b6fc535f3d12",
   "metadata": {},
   "outputs": [],
   "source": [
    "location = \"Mumbai\""
   ]
  },
  {
   "cell_type": "code",
   "execution_count": null,
   "id": "5b6f8903-f3b4-421a-a557-2c1d9ce99aff",
   "metadata": {},
   "outputs": [],
   "source": [
    "_name = \"ryan\""
   ]
  },
  {
   "cell_type": "code",
   "execution_count": null,
   "id": "869fe2ca-e3f5-4614-a977-af99b25e0d69",
   "metadata": {},
   "outputs": [],
   "source": [
    "# inValid ways"
   ]
  },
  {
   "cell_type": "code",
   "execution_count": null,
   "id": "710595f8-3e56-4661-99d5-d02479374743",
   "metadata": {},
   "outputs": [],
   "source": [
    "a-bc = \"ryan\""
   ]
  },
  {
   "cell_type": "code",
   "execution_count": null,
   "id": "ff864da7-33eb-4c00-9e84-1f870ac1d495",
   "metadata": {},
   "outputs": [],
   "source": [
    "data_science = \"ryan\""
   ]
  },
  {
   "cell_type": "code",
   "execution_count": null,
   "id": "e17b7c07-4493-4ce2-961a-432688fb78d3",
   "metadata": {},
   "outputs": [],
   "source": [
    "data_analytics_course = \"Ryan\""
   ]
  },
  {
   "cell_type": "code",
   "execution_count": null,
   "id": "0129721b-3a91-4753-b86c-0deebc21a88d",
   "metadata": {},
   "outputs": [],
   "source": [
    "@abc = 2.3"
   ]
  },
  {
   "cell_type": "code",
   "execution_count": null,
   "id": "9e741b59-438a-492b-ac89-572f9d4d606e",
   "metadata": {},
   "outputs": [],
   "source": [
    "%abc = \"Ryan\""
   ]
  },
  {
   "cell_type": "code",
   "execution_count": null,
   "id": "734873e6-d1a4-45a5-b1e8-e2aa2cb7d8cb",
   "metadata": {},
   "outputs": [],
   "source": [
    "print(\"ryan\")"
   ]
  },
  {
   "cell_type": "code",
   "execution_count": null,
   "id": "638f99ab-4a51-493a-b35e-2e41d330914e",
   "metadata": {},
   "outputs": [],
   "source": [
    "com"
   ]
  },
  {
   "cell_type": "raw",
   "id": "bdae7f00-ad76-42ad-a8c9-b58458a95e04",
   "metadata": {},
   "source": [
    "## Comments "
   ]
  },
  {
   "cell_type": "code",
   "execution_count": null,
   "id": "b818bd41-b8aa-4635-b00e-982e2822ff5b",
   "metadata": {},
   "outputs": [],
   "source": [
    "# This is a define comment\n",
    "a = 3\n",
    "a"
   ]
  },
  {
   "cell_type": "code",
   "execution_count": null,
   "id": "8a44e414-1146-4099-bcfa-d64abac81ed2",
   "metadata": {},
   "outputs": [],
   "source": [
    "# This is my 1st line \n",
    "# this is my 2nd line \n"
   ]
  },
  {
   "cell_type": "code",
   "execution_count": null,
   "id": "2ef0e716-2570-4c28-ae8c-321764628f35",
   "metadata": {},
   "outputs": [],
   "source": [
    "# Mulitline comments\n",
    "''' \n",
    "This is a mulitline comment\n",
    "all the students are enjoying\n",
    "\n",
    "'''\n",
    "\n",
    "a = 5\n",
    "a"
   ]
  },
  {
   "cell_type": "code",
   "execution_count": null,
   "id": "7a61599b-ed79-4c1d-a7d0-510fd8d2e6b1",
   "metadata": {},
   "outputs": [],
   "source": [
    "\"\"\"\n",
    "This is a mulitline comment\n",
    "all the students are enjoying\n",
    "\n",
    "\"\"\"\n",
    "\n",
    "a = 5\n",
    "a\n"
   ]
  },
  {
   "cell_type": "code",
   "execution_count": null,
   "id": "77fc8b3d-c751-4d33-ac7e-d19f19256dc0",
   "metadata": {},
   "outputs": [],
   "source": [
    "print(\"Hello world\")\n",
    "type(a)"
   ]
  },
  {
   "cell_type": "code",
   "execution_count": null,
   "id": "81a89c90-f11f-4f08-ab39-46e93dfb95cb",
   "metadata": {},
   "outputs": [],
   "source": [
    "# Keywords >> are Predfined Keywords that holds special meaning and that holds specific purpose "
   ]
  },
  {
   "cell_type": "code",
   "execution_count": null,
   "id": "e4187654-1d39-4b28-a208-f723a9b8eb49",
   "metadata": {},
   "outputs": [],
   "source": [
    "help('keywords')"
   ]
  },
  {
   "cell_type": "code",
   "execution_count": null,
   "id": "3424907a-2d68-4179-870c-cec3c5c30573",
   "metadata": {},
   "outputs": [],
   "source": [
    "# Indentation >> More readable\n",
    "if 3>2:\n",
    "    print (\"greater\")"
   ]
  },
  {
   "cell_type": "code",
   "execution_count": null,
   "id": "c06954ab-f18a-4183-a237-e5a53c0b4ddb",
   "metadata": {},
   "outputs": [],
   "source": [
    "a = 3 #statemement >> fundamental block of code\n",
    "name = \"Ryan\"\n",
    "\n",
    "# statment can be of many types >> Expression, assignments, conditional statements, loop statement"
   ]
  },
  {
   "cell_type": "code",
   "execution_count": null,
   "id": "ba37733d-a834-4946-bd11-64a809a227f5",
   "metadata": {},
   "outputs": [],
   "source": [
    "## Assignment statement \n",
    "a = 5"
   ]
  },
  {
   "cell_type": "code",
   "execution_count": null,
   "id": "9db8010b-7106-4943-9cf0-110d38c8b07d",
   "metadata": {},
   "outputs": [],
   "source": [
    "a = 5 \n",
    "b = 3 # assignment statement \n",
    "a+b #expression statement"
   ]
  },
  {
   "cell_type": "code",
   "execution_count": 1,
   "id": "3ba026d2-f737-4d4c-8d39-3dcb535ab848",
   "metadata": {},
   "outputs": [],
   "source": [
    "a = 3"
   ]
  },
  {
   "cell_type": "code",
   "execution_count": 2,
   "id": "9a0ddff5-1b54-4e74-b77d-12944915e381",
   "metadata": {},
   "outputs": [
    {
     "data": {
      "text/plain": [
       "3"
      ]
     },
     "execution_count": 2,
     "metadata": {},
     "output_type": "execute_result"
    }
   ],
   "source": [
    "a"
   ]
  },
  {
   "cell_type": "code",
   "execution_count": 3,
   "id": "929f1b2a-b72d-479c-a74d-18704e488ef0",
   "metadata": {},
   "outputs": [],
   "source": [
    "name = \"Ryan\""
   ]
  },
  {
   "cell_type": "code",
   "execution_count": 4,
   "id": "4406dbf3-526e-460b-9ad4-5dc1c6aa9214",
   "metadata": {},
   "outputs": [
    {
     "data": {
      "text/plain": [
       "'Ryan'"
      ]
     },
     "execution_count": 4,
     "metadata": {},
     "output_type": "execute_result"
    }
   ],
   "source": [
    "name"
   ]
  },
  {
   "cell_type": "code",
   "execution_count": 8,
   "id": "a7c1a5ed-0fc7-419b-acdd-47aa2926b520",
   "metadata": {},
   "outputs": [
    {
     "name": "stdin",
     "output_type": "stream",
     "text": [
      "your name 2\n"
     ]
    }
   ],
   "source": [
    "name = input(\"your name\")"
   ]
  },
  {
   "cell_type": "code",
   "execution_count": 9,
   "id": "a36b19ba-1d4f-4367-8a5a-a64d2ebf54ed",
   "metadata": {},
   "outputs": [
    {
     "data": {
      "text/plain": [
       "'2'"
      ]
     },
     "execution_count": 9,
     "metadata": {},
     "output_type": "execute_result"
    }
   ],
   "source": [
    "name"
   ]
  },
  {
   "cell_type": "code",
   "execution_count": 10,
   "id": "c66216fd-40fc-4a57-a17e-23385cb3d151",
   "metadata": {},
   "outputs": [
    {
     "data": {
      "text/plain": [
       "str"
      ]
     },
     "execution_count": 10,
     "metadata": {},
     "output_type": "execute_result"
    }
   ],
   "source": [
    "type(name)"
   ]
  },
  {
   "cell_type": "code",
   "execution_count": 12,
   "id": "78a13409-c1c1-4c03-a1e3-3bf06757261b",
   "metadata": {},
   "outputs": [],
   "source": [
    "## input actaully takes every value as a string / character\n",
    "# we can convert '2' into int\n"
   ]
  },
  {
   "cell_type": "code",
   "execution_count": 17,
   "id": "df4c7de5-b5cc-46e3-8b25-7556eca2f5e9",
   "metadata": {},
   "outputs": [],
   "source": [
    "# Type casting > to change the format \n",
    "name = int(name) \n"
   ]
  },
  {
   "cell_type": "code",
   "execution_count": 18,
   "id": "d9de6a71-0ae1-4aa7-92a1-340d8f2200c0",
   "metadata": {},
   "outputs": [
    {
     "data": {
      "text/plain": [
       "int"
      ]
     },
     "execution_count": 18,
     "metadata": {},
     "output_type": "execute_result"
    }
   ],
   "source": [
    "type(name)"
   ]
  },
  {
   "cell_type": "code",
   "execution_count": 19,
   "id": "0c27bd91-9d20-4689-b08c-8d0e11fd6545",
   "metadata": {},
   "outputs": [],
   "source": [
    "a = \"3.5\""
   ]
  },
  {
   "cell_type": "code",
   "execution_count": 20,
   "id": "3226bed2-7297-4de8-a862-ae519cd487d3",
   "metadata": {},
   "outputs": [
    {
     "data": {
      "text/plain": [
       "str"
      ]
     },
     "execution_count": 20,
     "metadata": {},
     "output_type": "execute_result"
    }
   ],
   "source": [
    "type(a)"
   ]
  },
  {
   "cell_type": "code",
   "execution_count": 22,
   "id": "0550a8fc-74a5-4d07-8bdf-9facec6d23dd",
   "metadata": {},
   "outputs": [
    {
     "data": {
      "text/plain": [
       "float"
      ]
     },
     "execution_count": 22,
     "metadata": {},
     "output_type": "execute_result"
    }
   ],
   "source": [
    "type(float(a))"
   ]
  },
  {
   "cell_type": "code",
   "execution_count": 24,
   "id": "9e816c32-8c52-4bfd-81da-6f78e92e6995",
   "metadata": {},
   "outputs": [
    {
     "data": {
      "text/plain": [
       "str"
      ]
     },
     "execution_count": 24,
     "metadata": {},
     "output_type": "execute_result"
    }
   ],
   "source": [
    "s = \"108\"\n",
    "type(s)"
   ]
  },
  {
   "cell_type": "code",
   "execution_count": 25,
   "id": "90906449-4962-4cb7-8f7f-969cece33788",
   "metadata": {},
   "outputs": [
    {
     "data": {
      "text/plain": [
       "108"
      ]
     },
     "execution_count": 25,
     "metadata": {},
     "output_type": "execute_result"
    }
   ],
   "source": [
    "int(s)"
   ]
  },
  {
   "cell_type": "code",
   "execution_count": 26,
   "id": "1b00adcd-3b4e-4b6c-bbe3-40c358b9a717",
   "metadata": {},
   "outputs": [
    {
     "data": {
      "text/plain": [
       "108.0"
      ]
     },
     "execution_count": 26,
     "metadata": {},
     "output_type": "execute_result"
    }
   ],
   "source": [
    "float(s)"
   ]
  },
  {
   "cell_type": "code",
   "execution_count": 27,
   "id": "e3fdd2fb-c661-4a2f-b599-d9bc51dba159",
   "metadata": {},
   "outputs": [
    {
     "data": {
      "text/plain": [
       "'108'"
      ]
     },
     "execution_count": 27,
     "metadata": {},
     "output_type": "execute_result"
    }
   ],
   "source": [
    "str(s)"
   ]
  },
  {
   "cell_type": "code",
   "execution_count": 28,
   "id": "3363266b-441e-4e45-bfec-ed25f66e1c38",
   "metadata": {},
   "outputs": [],
   "source": [
    "a = 121"
   ]
  },
  {
   "cell_type": "code",
   "execution_count": 29,
   "id": "24d1d413-e61f-44e5-acc5-568d5e5b7665",
   "metadata": {},
   "outputs": [
    {
     "data": {
      "text/plain": [
       "int"
      ]
     },
     "execution_count": 29,
     "metadata": {},
     "output_type": "execute_result"
    }
   ],
   "source": [
    "type(a)"
   ]
  },
  {
   "cell_type": "code",
   "execution_count": 32,
   "id": "f8bf8705-a582-41d8-b971-92d15d4e057a",
   "metadata": {},
   "outputs": [
    {
     "data": {
      "text/plain": [
       "str"
      ]
     },
     "execution_count": 32,
     "metadata": {},
     "output_type": "execute_result"
    }
   ],
   "source": [
    "type(str(a))"
   ]
  },
  {
   "cell_type": "code",
   "execution_count": 31,
   "id": "c68d0af5-73a8-4448-8d0a-8259747fcada",
   "metadata": {},
   "outputs": [
    {
     "data": {
      "text/plain": [
       "121.0"
      ]
     },
     "execution_count": 31,
     "metadata": {},
     "output_type": "execute_result"
    }
   ],
   "source": [
    "float(a)"
   ]
  },
  {
   "cell_type": "code",
   "execution_count": 33,
   "id": "f0a5deab-6f1b-497e-9909-268c0189ce63",
   "metadata": {},
   "outputs": [
    {
     "data": {
      "text/plain": [
       "False"
      ]
     },
     "execution_count": 33,
     "metadata": {},
     "output_type": "execute_result"
    }
   ],
   "source": [
    "bool(0)"
   ]
  },
  {
   "cell_type": "code",
   "execution_count": 34,
   "id": "61e9afe4-09c3-4649-9f48-ec1583e6a504",
   "metadata": {},
   "outputs": [
    {
     "data": {
      "text/plain": [
       "True"
      ]
     },
     "execution_count": 34,
     "metadata": {},
     "output_type": "execute_result"
    }
   ],
   "source": [
    "bool(1)"
   ]
  },
  {
   "cell_type": "code",
   "execution_count": 35,
   "id": "ae4cb075-7be7-4df1-ab47-eaa648ee8583",
   "metadata": {},
   "outputs": [
    {
     "ename": "ValueError",
     "evalue": "invalid literal for int() with base 10: 'Ryan'",
     "output_type": "error",
     "traceback": [
      "\u001b[31m---------------------------------------------------------------------------\u001b[39m",
      "\u001b[31mValueError\u001b[39m                                Traceback (most recent call last)",
      "\u001b[36mCell\u001b[39m\u001b[36m \u001b[39m\u001b[32mIn[35]\u001b[39m\u001b[32m, line 2\u001b[39m\n\u001b[32m      1\u001b[39m a = \u001b[33m\"\u001b[39m\u001b[33mRyan\u001b[39m\u001b[33m\"\u001b[39m \n\u001b[32m----> \u001b[39m\u001b[32m2\u001b[39m \u001b[38;5;28;43mint\u001b[39;49m\u001b[43m(\u001b[49m\u001b[43ma\u001b[49m\u001b[43m)\u001b[49m\n",
      "\u001b[31mValueError\u001b[39m: invalid literal for int() with base 10: 'Ryan'"
     ]
    }
   ],
   "source": [
    "a = \"Ryan\" \n",
    "int(a)"
   ]
  },
  {
   "cell_type": "code",
   "execution_count": 36,
   "id": "c21bb0e4-06a6-40bb-b5a2-b4c4bc9d3793",
   "metadata": {},
   "outputs": [],
   "source": [
    "## python is a case senttive programming language \n",
    "a = 5\n",
    "A = 15"
   ]
  },
  {
   "cell_type": "code",
   "execution_count": 37,
   "id": "c8d5f101-faa1-4628-b57a-55811af3eebf",
   "metadata": {},
   "outputs": [
    {
     "data": {
      "text/plain": [
       "5"
      ]
     },
     "execution_count": 37,
     "metadata": {},
     "output_type": "execute_result"
    }
   ],
   "source": [
    "a"
   ]
  },
  {
   "cell_type": "code",
   "execution_count": 38,
   "id": "10e53262-9995-439c-af68-a2d19027e1fc",
   "metadata": {},
   "outputs": [
    {
     "data": {
      "text/plain": [
       "15"
      ]
     },
     "execution_count": 38,
     "metadata": {},
     "output_type": "execute_result"
    }
   ],
   "source": [
    "A"
   ]
  },
  {
   "cell_type": "code",
   "execution_count": 39,
   "id": "04e09b43-4d64-4176-915b-591b71e2e7d9",
   "metadata": {},
   "outputs": [
    {
     "name": "stdout",
     "output_type": "stream",
     "text": [
      "HEllo\n"
     ]
    }
   ],
   "source": [
    "## variables canot be keywords \n",
    "\n",
    "print(\"HEllo\")"
   ]
  },
  {
   "cell_type": "code",
   "execution_count": 40,
   "id": "b6026959-db10-4345-ae16-806d19c50e87",
   "metadata": {},
   "outputs": [],
   "source": [
    "print = \"Ryan\""
   ]
  },
  {
   "cell_type": "code",
   "execution_count": 42,
   "id": "41fbfeac-978f-46d7-a020-e5201d6fd135",
   "metadata": {},
   "outputs": [
    {
     "ename": "TypeError",
     "evalue": "'str' object is not callable",
     "output_type": "error",
     "traceback": [
      "\u001b[31m---------------------------------------------------------------------------\u001b[39m",
      "\u001b[31mTypeError\u001b[39m                                 Traceback (most recent call last)",
      "\u001b[36mCell\u001b[39m\u001b[36m \u001b[39m\u001b[32mIn[42]\u001b[39m\u001b[32m, line 1\u001b[39m\n\u001b[32m----> \u001b[39m\u001b[32m1\u001b[39m \u001b[38;5;28;43mprint\u001b[39;49m\u001b[43m(\u001b[49m\u001b[33;43m\"\u001b[39;49m\u001b[33;43mWorld\u001b[39;49m\u001b[33;43m\"\u001b[39;49m\u001b[43m)\u001b[49m\n",
      "\u001b[31mTypeError\u001b[39m: 'str' object is not callable"
     ]
    }
   ],
   "source": [
    "print(\"World\")"
   ]
  },
  {
   "cell_type": "code",
   "execution_count": null,
   "id": "ce647057-67c3-412e-a33b-9034fb199ad3",
   "metadata": {},
   "outputs": [],
   "source": []
  }
 ],
 "metadata": {
  "kernelspec": {
   "display_name": "Python 3 (ipykernel)",
   "language": "python",
   "name": "python3"
  },
  "language_info": {
   "codemirror_mode": {
    "name": "ipython",
    "version": 3
   },
   "file_extension": ".py",
   "mimetype": "text/x-python",
   "name": "python",
   "nbconvert_exporter": "python",
   "pygments_lexer": "ipython3",
   "version": "3.13.2"
  }
 },
 "nbformat": 4,
 "nbformat_minor": 5
}
