{
 "cells": [
  {
   "cell_type": "raw",
   "id": "32b1fa35-7bd1-4eb0-a9bd-adf49990652e",
   "metadata": {},
   "source": [
    "# Python Operators > Special keywords or symbols used to perform operations on values or variables. \n",
    "Why? - We want to manage and do computation and make decisions using data.\n",
    "a+b (a = 2) (b = 3)\n",
    "\n"
   ]
  },
  {
   "cell_type": "code",
   "execution_count": 6,
   "id": "4c006bae-1b3b-4f5c-817a-1f6b6af92ed2",
   "metadata": {},
   "outputs": [
    {
     "data": {
      "text/plain": [
       "5"
      ]
     },
     "execution_count": 6,
     "metadata": {},
     "output_type": "execute_result"
    }
   ],
   "source": [
    "a = 3\n",
    "b = 2\n",
    "a+b"
   ]
  },
  {
   "cell_type": "code",
   "execution_count": 8,
   "id": "99492c75-7e58-4acd-b951-04f04095d1a5",
   "metadata": {},
   "outputs": [],
   "source": [
    "# Artitmetic Operators "
   ]
  },
  {
   "cell_type": "code",
   "execution_count": 9,
   "id": "4bc42e33-82c7-46ff-a526-caf68985ba00",
   "metadata": {},
   "outputs": [
    {
     "data": {
      "text/plain": [
       "5"
      ]
     },
     "execution_count": 9,
     "metadata": {},
     "output_type": "execute_result"
    }
   ],
   "source": [
    "add = a + b\n",
    "add"
   ]
  },
  {
   "cell_type": "code",
   "execution_count": 10,
   "id": "e67d84e9-e210-41aa-bdea-16e1837a1dfd",
   "metadata": {},
   "outputs": [
    {
     "data": {
      "text/plain": [
       "97"
      ]
     },
     "execution_count": 10,
     "metadata": {},
     "output_type": "execute_result"
    }
   ],
   "source": [
    "100-3"
   ]
  },
  {
   "cell_type": "code",
   "execution_count": 11,
   "id": "69279080-01bc-4c53-afd2-684cceac9fbb",
   "metadata": {},
   "outputs": [
    {
     "data": {
      "text/plain": [
       "-2"
      ]
     },
     "execution_count": 11,
     "metadata": {},
     "output_type": "execute_result"
    }
   ],
   "source": [
    "3-5"
   ]
  },
  {
   "cell_type": "code",
   "execution_count": 12,
   "id": "ed934d35-c550-4380-a268-ce0ddd2fbb46",
   "metadata": {},
   "outputs": [
    {
     "data": {
      "text/plain": [
       "6"
      ]
     },
     "execution_count": 12,
     "metadata": {},
     "output_type": "execute_result"
    }
   ],
   "source": [
    "3*2"
   ]
  },
  {
   "cell_type": "code",
   "execution_count": 13,
   "id": "b14467ca-1c7a-476c-97c9-751545a5ca93",
   "metadata": {},
   "outputs": [
    {
     "data": {
      "text/plain": [
       "5.25"
      ]
     },
     "execution_count": 13,
     "metadata": {},
     "output_type": "execute_result"
    }
   ],
   "source": [
    "21/4"
   ]
  },
  {
   "cell_type": "code",
   "execution_count": 14,
   "id": "127f8adf-e27f-4fe9-8ee2-9e13e7a73b69",
   "metadata": {},
   "outputs": [
    {
     "data": {
      "text/plain": [
       "5.0"
      ]
     },
     "execution_count": 14,
     "metadata": {},
     "output_type": "execute_result"
    }
   ],
   "source": [
    "20/4"
   ]
  },
  {
   "cell_type": "code",
   "execution_count": 18,
   "id": "fc73135e-5d33-4063-ae2b-d6c6c5590d06",
   "metadata": {},
   "outputs": [
    {
     "data": {
      "text/plain": [
       "1"
      ]
     },
     "execution_count": 18,
     "metadata": {},
     "output_type": "execute_result"
    }
   ],
   "source": [
    "# Modules Operators \n",
    "21%4\n"
   ]
  },
  {
   "cell_type": "code",
   "execution_count": 20,
   "id": "f81f7ce1-c7e0-4a2c-9856-22becfba0d10",
   "metadata": {},
   "outputs": [
    {
     "data": {
      "text/plain": [
       "32"
      ]
     },
     "execution_count": 20,
     "metadata": {},
     "output_type": "execute_result"
    }
   ],
   "source": [
    "2 ** 5 # 2 to power 5"
   ]
  },
  {
   "cell_type": "code",
   "execution_count": 22,
   "id": "233ae77a-d369-41d9-9281-ac041ae4b01b",
   "metadata": {},
   "outputs": [
    {
     "data": {
      "text/plain": [
       "515377520732011331036461129765621272702107522001"
      ]
     },
     "execution_count": 22,
     "metadata": {},
     "output_type": "execute_result"
    }
   ],
   "source": [
    "3 ** 100"
   ]
  },
  {
   "cell_type": "code",
   "execution_count": 23,
   "id": "52f4d4c5-7493-478d-bb81-133730ffe6b8",
   "metadata": {},
   "outputs": [
    {
     "data": {
      "text/plain": [
       "1.3333333333333333"
      ]
     },
     "execution_count": 23,
     "metadata": {},
     "output_type": "execute_result"
    }
   ],
   "source": [
    "4/3"
   ]
  },
  {
   "cell_type": "code",
   "execution_count": 24,
   "id": "86162711-3039-47f7-904e-b96ead327594",
   "metadata": {},
   "outputs": [
    {
     "data": {
      "text/plain": [
       "1"
      ]
     },
     "execution_count": 24,
     "metadata": {},
     "output_type": "execute_result"
    }
   ],
   "source": [
    "4 // 3 # Floor Operator"
   ]
  },
  {
   "cell_type": "code",
   "execution_count": 25,
   "id": "7b15cbfa-1fca-4c87-8ed4-80e08f924b32",
   "metadata": {},
   "outputs": [
    {
     "data": {
      "text/plain": [
       "True"
      ]
     },
     "execution_count": 25,
     "metadata": {},
     "output_type": "execute_result"
    }
   ],
   "source": [
    "# Comparison Operator >> Compare 2 values >> and return a boolen value\n",
    "2 == 2"
   ]
  },
  {
   "cell_type": "code",
   "execution_count": 28,
   "id": "5965b267-9f5c-43b2-960e-d42714d9954a",
   "metadata": {},
   "outputs": [
    {
     "data": {
      "text/plain": [
       "False"
      ]
     },
     "execution_count": 28,
     "metadata": {},
     "output_type": "execute_result"
    }
   ],
   "source": [
    "2!= 2"
   ]
  },
  {
   "cell_type": "code",
   "execution_count": 31,
   "id": "4c854792-4488-4009-bd19-ed1b8138c2e0",
   "metadata": {},
   "outputs": [
    {
     "data": {
      "text/plain": [
       "True"
      ]
     },
     "execution_count": 31,
     "metadata": {},
     "output_type": "execute_result"
    }
   ],
   "source": [
    "5 != 2"
   ]
  },
  {
   "cell_type": "code",
   "execution_count": 32,
   "id": "63343ac6-ec2c-444b-8ed6-f20bb926e89d",
   "metadata": {},
   "outputs": [
    {
     "data": {
      "text/plain": [
       "True"
      ]
     },
     "execution_count": 32,
     "metadata": {},
     "output_type": "execute_result"
    }
   ],
   "source": [
    "10 > 2"
   ]
  },
  {
   "cell_type": "code",
   "execution_count": 33,
   "id": "a6d204e6-99d2-4342-8a61-ed8cd935be5a",
   "metadata": {},
   "outputs": [
    {
     "data": {
      "text/plain": [
       "True"
      ]
     },
     "execution_count": 33,
     "metadata": {},
     "output_type": "execute_result"
    }
   ],
   "source": [
    "10 >= 2"
   ]
  },
  {
   "cell_type": "code",
   "execution_count": 34,
   "id": "08f177b8-eabb-4966-9cba-ea3c28225d4d",
   "metadata": {},
   "outputs": [
    {
     "data": {
      "text/plain": [
       "False"
      ]
     },
     "execution_count": 34,
     "metadata": {},
     "output_type": "execute_result"
    }
   ],
   "source": [
    "10<2"
   ]
  },
  {
   "cell_type": "code",
   "execution_count": 36,
   "id": "e4026f5c-f5ea-4ab1-8e6f-c0411fb7d9bb",
   "metadata": {},
   "outputs": [
    {
     "data": {
      "text/plain": [
       "True"
      ]
     },
     "execution_count": 36,
     "metadata": {},
     "output_type": "execute_result"
    }
   ],
   "source": [
    "10 <= 10"
   ]
  },
  {
   "cell_type": "code",
   "execution_count": 37,
   "id": "70697f08-1b4f-46e3-b087-c71254532c85",
   "metadata": {},
   "outputs": [
    {
     "data": {
      "text/plain": [
       "True"
      ]
     },
     "execution_count": 37,
     "metadata": {},
     "output_type": "execute_result"
    }
   ],
   "source": [
    "12 >= 5"
   ]
  },
  {
   "cell_type": "code",
   "execution_count": 39,
   "id": "c13584d1-3418-4c2f-beef-7e1263551548",
   "metadata": {},
   "outputs": [
    {
     "data": {
      "text/plain": [
       "False"
      ]
     },
     "execution_count": 39,
     "metadata": {},
     "output_type": "execute_result"
    }
   ],
   "source": [
    "12 <= 2"
   ]
  },
  {
   "cell_type": "code",
   "execution_count": 43,
   "id": "53e2c3e6-e364-4e16-98b4-571662cebf98",
   "metadata": {},
   "outputs": [
    {
     "data": {
      "text/plain": [
       "True"
      ]
     },
     "execution_count": 43,
     "metadata": {},
     "output_type": "execute_result"
    }
   ],
   "source": [
    "# Logical Operator  > Logcally decide something \n",
    "# And \n",
    "#or\n",
    "True and True "
   ]
  },
  {
   "cell_type": "code",
   "execution_count": 44,
   "id": "e63f8732-b92d-4a21-9228-14f50856d1ac",
   "metadata": {},
   "outputs": [
    {
     "data": {
      "text/plain": [
       "1"
      ]
     },
     "execution_count": 44,
     "metadata": {},
     "output_type": "execute_result"
    }
   ],
   "source": [
    "True - False"
   ]
  },
  {
   "cell_type": "code",
   "execution_count": 45,
   "id": "8b073ae0-0938-4289-a9fd-e53f32397c02",
   "metadata": {},
   "outputs": [
    {
     "data": {
      "text/plain": [
       "True"
      ]
     },
     "execution_count": 45,
     "metadata": {},
     "output_type": "execute_result"
    }
   ],
   "source": [
    "True or True "
   ]
  },
  {
   "cell_type": "code",
   "execution_count": 46,
   "id": "513bc6f3-e75f-4c39-b212-4fea0731eda6",
   "metadata": {},
   "outputs": [
    {
     "data": {
      "text/plain": [
       "True"
      ]
     },
     "execution_count": 46,
     "metadata": {},
     "output_type": "execute_result"
    }
   ],
   "source": [
    "True or False"
   ]
  },
  {
   "cell_type": "code",
   "execution_count": 47,
   "id": "d4a98d5b-c35f-43d3-b521-17a184e4a0d7",
   "metadata": {},
   "outputs": [
    {
     "data": {
      "text/plain": [
       "False"
      ]
     },
     "execution_count": 47,
     "metadata": {},
     "output_type": "execute_result"
    }
   ],
   "source": [
    "False or False"
   ]
  },
  {
   "cell_type": "code",
   "execution_count": 48,
   "id": "fc28a330-2025-4399-b135-d8a3ea5ee599",
   "metadata": {},
   "outputs": [
    {
     "data": {
      "text/plain": [
       "True"
      ]
     },
     "execution_count": 48,
     "metadata": {},
     "output_type": "execute_result"
    }
   ],
   "source": [
    "False or True"
   ]
  },
  {
   "cell_type": "code",
   "execution_count": 49,
   "id": "65fba33d-ab35-41cb-806c-83c9c1cb42d0",
   "metadata": {},
   "outputs": [],
   "source": [
    "# And  T F F F F \n",
    "# OR T T T F\n"
   ]
  },
  {
   "cell_type": "code",
   "execution_count": 50,
   "id": "ea0ae7b5-090e-4b17-ac36-6f4d24cf8d03",
   "metadata": {},
   "outputs": [
    {
     "data": {
      "text/plain": [
       "False"
      ]
     },
     "execution_count": 50,
     "metadata": {},
     "output_type": "execute_result"
    }
   ],
   "source": [
    "True and False\n"
   ]
  },
  {
   "cell_type": "code",
   "execution_count": 51,
   "id": "9529b339-e879-4d29-8cdb-80c14c987d9e",
   "metadata": {},
   "outputs": [
    {
     "data": {
      "text/plain": [
       "False"
      ]
     },
     "execution_count": 51,
     "metadata": {},
     "output_type": "execute_result"
    }
   ],
   "source": [
    "False and False"
   ]
  },
  {
   "cell_type": "code",
   "execution_count": 52,
   "id": "d35f6871-b716-40fa-93db-f4e07f408f47",
   "metadata": {},
   "outputs": [
    {
     "data": {
      "text/plain": [
       "True"
      ]
     },
     "execution_count": 52,
     "metadata": {},
     "output_type": "execute_result"
    }
   ],
   "source": [
    "# Not Operator \n",
    "not False"
   ]
  },
  {
   "cell_type": "code",
   "execution_count": 53,
   "id": "adc08508-9e74-4f93-8848-02bac566128e",
   "metadata": {},
   "outputs": [
    {
     "data": {
      "text/plain": [
       "False"
      ]
     },
     "execution_count": 53,
     "metadata": {},
     "output_type": "execute_result"
    }
   ],
   "source": [
    "not True"
   ]
  },
  {
   "cell_type": "code",
   "execution_count": 54,
   "id": "c1176a93-c8e8-487d-95b8-cc457adcf72c",
   "metadata": {},
   "outputs": [],
   "source": [
    "# Assignment Operator\n",
    "a  = 10"
   ]
  },
  {
   "cell_type": "code",
   "execution_count": 55,
   "id": "9979123b-337d-4452-9345-81a70ae4c3fa",
   "metadata": {},
   "outputs": [],
   "source": [
    "b = 12\n",
    "b= b+4"
   ]
  },
  {
   "cell_type": "code",
   "execution_count": 56,
   "id": "085eea53-bb79-46ea-b626-83f9a853d555",
   "metadata": {},
   "outputs": [
    {
     "data": {
      "text/plain": [
       "16"
      ]
     },
     "execution_count": 56,
     "metadata": {},
     "output_type": "execute_result"
    }
   ],
   "source": [
    "b"
   ]
  },
  {
   "cell_type": "code",
   "execution_count": 57,
   "id": "0a7c2dac-5f41-48b3-a6de-232c7743af4c",
   "metadata": {},
   "outputs": [
    {
     "data": {
      "text/plain": [
       "11"
      ]
     },
     "execution_count": 57,
     "metadata": {},
     "output_type": "execute_result"
    }
   ],
   "source": [
    "b-5"
   ]
  },
  {
   "cell_type": "code",
   "execution_count": 59,
   "id": "14c6b077-ede5-401c-84d2-dd8c32f6ac99",
   "metadata": {},
   "outputs": [
    {
     "data": {
      "text/plain": [
       "80"
      ]
     },
     "execution_count": 59,
     "metadata": {},
     "output_type": "execute_result"
    }
   ],
   "source": [
    "b*5"
   ]
  },
  {
   "cell_type": "code",
   "execution_count": 60,
   "id": "2e4ceb8a-2f62-4000-b635-22ab11acd9e9",
   "metadata": {},
   "outputs": [
    {
     "data": {
      "text/plain": [
       "5.333333333333333"
      ]
     },
     "execution_count": 60,
     "metadata": {},
     "output_type": "execute_result"
    }
   ],
   "source": [
    "b/3 "
   ]
  },
  {
   "cell_type": "code",
   "execution_count": 61,
   "id": "17037811-2a0d-41ba-a519-a167db50e8ac",
   "metadata": {},
   "outputs": [
    {
     "data": {
      "text/plain": [
       "5"
      ]
     },
     "execution_count": 61,
     "metadata": {},
     "output_type": "execute_result"
    }
   ],
   "source": [
    "b//3"
   ]
  },
  {
   "cell_type": "code",
   "execution_count": 63,
   "id": "5ec2b7c5-7bbd-4528-bfc5-cb9ba0b6b214",
   "metadata": {},
   "outputs": [
    {
     "data": {
      "text/plain": [
       "True"
      ]
     },
     "execution_count": 63,
     "metadata": {},
     "output_type": "execute_result"
    }
   ],
   "source": [
    "# Membership Operators\n",
    "a = \"Ryan\"\n",
    "\n",
    "\"R\" in a "
   ]
  },
  {
   "cell_type": "code",
   "execution_count": 64,
   "id": "e107a248-9862-4129-9dd9-de2e2d808ce1",
   "metadata": {},
   "outputs": [
    {
     "data": {
      "text/plain": [
       "False"
      ]
     },
     "execution_count": 64,
     "metadata": {},
     "output_type": "execute_result"
    }
   ],
   "source": [
    "\"R\" not in a"
   ]
  },
  {
   "cell_type": "code",
   "execution_count": 65,
   "id": "eb854f32-6bea-4ed1-ab99-ff6d8391cfea",
   "metadata": {},
   "outputs": [
    {
     "data": {
      "text/plain": [
       "False"
      ]
     },
     "execution_count": 65,
     "metadata": {},
     "output_type": "execute_result"
    }
   ],
   "source": [
    "b =\"Neha\"\n",
    "\"am\" in b"
   ]
  },
  {
   "cell_type": "code",
   "execution_count": 66,
   "id": "0d7a37b8-b87f-4833-897c-fc647a6b861b",
   "metadata": {},
   "outputs": [
    {
     "data": {
      "text/plain": [
       "True"
      ]
     },
     "execution_count": 66,
     "metadata": {},
     "output_type": "execute_result"
    }
   ],
   "source": [
    "\"Ne\" in b"
   ]
  },
  {
   "cell_type": "code",
   "execution_count": 69,
   "id": "c1a8c79c-73e9-4d38-8909-6aa4119a2398",
   "metadata": {},
   "outputs": [],
   "source": [
    "a = [\"Ryan\" , \"data\" , \"Data analytics\"]"
   ]
  },
  {
   "cell_type": "code",
   "execution_count": 70,
   "id": "49bb26d3-c766-41af-a29e-89cc714e23e6",
   "metadata": {},
   "outputs": [
    {
     "data": {
      "text/plain": [
       "True"
      ]
     },
     "execution_count": 70,
     "metadata": {},
     "output_type": "execute_result"
    }
   ],
   "source": [
    "\"Ryan\" in a "
   ]
  },
  {
   "cell_type": "code",
   "execution_count": 71,
   "id": "8ec2c73f-1f22-4deb-bed2-24e268546675",
   "metadata": {},
   "outputs": [
    {
     "data": {
      "text/plain": [
       "False"
      ]
     },
     "execution_count": 71,
     "metadata": {},
     "output_type": "execute_result"
    }
   ],
   "source": [
    "\"Data science\" in a "
   ]
  },
  {
   "cell_type": "code",
   "execution_count": 72,
   "id": "8bf88f58-d78c-410e-bacc-e5de08065d1d",
   "metadata": {},
   "outputs": [],
   "source": [
    "# Identitiy Operators > Compares the location of 2 Objects in memory"
   ]
  },
  {
   "cell_type": "code",
   "execution_count": 75,
   "id": "5819e43e-9039-4173-a08e-35e6088377ea",
   "metadata": {},
   "outputs": [],
   "source": [
    "a = 2\n",
    "b = 3"
   ]
  },
  {
   "cell_type": "code",
   "execution_count": 76,
   "id": "33d3551a-1a44-446d-a251-ff65cafd24df",
   "metadata": {},
   "outputs": [
    {
     "data": {
      "text/plain": [
       "False"
      ]
     },
     "execution_count": 76,
     "metadata": {},
     "output_type": "execute_result"
    }
   ],
   "source": [
    "a is b"
   ]
  },
  {
   "cell_type": "code",
   "execution_count": 77,
   "id": "51e80cca-70ec-4bec-9b50-391dd3ce3681",
   "metadata": {},
   "outputs": [
    {
     "data": {
      "text/plain": [
       "True"
      ]
     },
     "execution_count": 77,
     "metadata": {},
     "output_type": "execute_result"
    }
   ],
   "source": [
    "a is not b"
   ]
  },
  {
   "cell_type": "code",
   "execution_count": 79,
   "id": "4fd04385-430b-4a4d-b332-0f51ba35cf7c",
   "metadata": {},
   "outputs": [],
   "source": [
    "a = 2\n",
    "b = a"
   ]
  },
  {
   "cell_type": "code",
   "execution_count": 80,
   "id": "b708422f-a248-47ca-8b4a-1ebc204571cf",
   "metadata": {},
   "outputs": [
    {
     "data": {
      "text/plain": [
       "True"
      ]
     },
     "execution_count": 80,
     "metadata": {},
     "output_type": "execute_result"
    }
   ],
   "source": [
    "a is b"
   ]
  },
  {
   "cell_type": "code",
   "execution_count": 81,
   "id": "67144ef1-e3d1-4ea6-863d-cc3d14ab804b",
   "metadata": {},
   "outputs": [
    {
     "data": {
      "text/plain": [
       "False"
      ]
     },
     "execution_count": 81,
     "metadata": {},
     "output_type": "execute_result"
    }
   ],
   "source": [
    "b is not a "
   ]
  },
  {
   "cell_type": "code",
   "execution_count": 82,
   "id": "e53625aa-62de-4d35-a81d-c86228769b5c",
   "metadata": {},
   "outputs": [],
   "source": [
    "# Bitwise Opreator >> everything is stored on bit level , Manipulating bits within Integer "
   ]
  },
  {
   "cell_type": "code",
   "execution_count": 84,
   "id": "714c81e3-7192-4bc7-bc4a-6da0f3654644",
   "metadata": {},
   "outputs": [
    {
     "data": {
      "text/plain": [
       "10"
      ]
     },
     "execution_count": 84,
     "metadata": {},
     "output_type": "execute_result"
    }
   ],
   "source": [
    "10 & 10"
   ]
  },
  {
   "cell_type": "code",
   "execution_count": 85,
   "id": "5006a293-579f-4e45-8eab-041047fcfcf5",
   "metadata": {},
   "outputs": [
    {
     "data": {
      "text/plain": [
       "'0b1010'"
      ]
     },
     "execution_count": 85,
     "metadata": {},
     "output_type": "execute_result"
    }
   ],
   "source": [
    "bin (10)"
   ]
  },
  {
   "cell_type": "code",
   "execution_count": 86,
   "id": "fad193e4-c7ad-4b34-aaa8-9d303d8473fa",
   "metadata": {},
   "outputs": [
    {
     "data": {
      "text/plain": [
       "2"
      ]
     },
     "execution_count": 86,
     "metadata": {},
     "output_type": "execute_result"
    }
   ],
   "source": [
    "18 & 3"
   ]
  },
  {
   "cell_type": "code",
   "execution_count": 87,
   "id": "fdb6e41e-7e0a-4117-b7ac-fa6d33785cc5",
   "metadata": {},
   "outputs": [
    {
     "data": {
      "text/plain": [
       "'0b10010'"
      ]
     },
     "execution_count": 87,
     "metadata": {},
     "output_type": "execute_result"
    }
   ],
   "source": [
    "bin (18)"
   ]
  },
  {
   "cell_type": "code",
   "execution_count": 88,
   "id": "ee50bddf-6d40-4c16-9f91-9ea4cc8075f7",
   "metadata": {},
   "outputs": [
    {
     "data": {
      "text/plain": [
       "'0b11'"
      ]
     },
     "execution_count": 88,
     "metadata": {},
     "output_type": "execute_result"
    }
   ],
   "source": [
    "bin(3)"
   ]
  },
  {
   "cell_type": "code",
   "execution_count": 89,
   "id": "3cded3cf-111b-4bc2-9a81-6e51213ac6c0",
   "metadata": {},
   "outputs": [
    {
     "data": {
      "text/plain": [
       "'0b10'"
      ]
     },
     "execution_count": 89,
     "metadata": {},
     "output_type": "execute_result"
    }
   ],
   "source": [
    "bin(2)"
   ]
  },
  {
   "cell_type": "code",
   "execution_count": 92,
   "id": "59c9041a-a8c8-4cbb-9dd3-f94935a662ee",
   "metadata": {},
   "outputs": [
    {
     "data": {
      "text/plain": [
       "7"
      ]
     },
     "execution_count": 92,
     "metadata": {},
     "output_type": "execute_result"
    }
   ],
   "source": [
    "3 | 5"
   ]
  },
  {
   "cell_type": "code",
   "execution_count": 93,
   "id": "6f2e7037-f8ee-4b47-87fc-b960c6e95896",
   "metadata": {},
   "outputs": [
    {
     "data": {
      "text/plain": [
       "'0b11'"
      ]
     },
     "execution_count": 93,
     "metadata": {},
     "output_type": "execute_result"
    }
   ],
   "source": [
    "bin(3)"
   ]
  },
  {
   "cell_type": "code",
   "execution_count": 94,
   "id": "4866dd0b-701a-4014-9bc3-6ec67811c7ce",
   "metadata": {},
   "outputs": [
    {
     "data": {
      "text/plain": [
       "'0b111'"
      ]
     },
     "execution_count": 94,
     "metadata": {},
     "output_type": "execute_result"
    }
   ],
   "source": [
    "bin(7)"
   ]
  },
  {
   "cell_type": "code",
   "execution_count": 95,
   "id": "031f004d-a91b-4fdb-8aad-03c63fc72fb1",
   "metadata": {},
   "outputs": [
    {
     "data": {
      "text/plain": [
       "-4"
      ]
     },
     "execution_count": 95,
     "metadata": {},
     "output_type": "execute_result"
    }
   ],
   "source": [
    "#negation\n",
    "~ 3"
   ]
  },
  {
   "cell_type": "code",
   "execution_count": 96,
   "id": "c4ff7d89-49c3-4c69-8425-f2e37dab6577",
   "metadata": {},
   "outputs": [
    {
     "data": {
      "text/plain": [
       "-3"
      ]
     },
     "execution_count": 96,
     "metadata": {},
     "output_type": "execute_result"
    }
   ],
   "source": [
    "~2"
   ]
  },
  {
   "cell_type": "code",
   "execution_count": 97,
   "id": "5ed87591-f7cb-465a-b1e8-3c769714a23b",
   "metadata": {},
   "outputs": [
    {
     "data": {
      "text/plain": [
       "-101"
      ]
     },
     "execution_count": 97,
     "metadata": {},
     "output_type": "execute_result"
    }
   ],
   "source": [
    "~100"
   ]
  },
  {
   "cell_type": "code",
   "execution_count": 98,
   "id": "b973ef32-7816-4760-8ab3-8785151f62cd",
   "metadata": {},
   "outputs": [
    {
     "data": {
      "text/plain": [
       "5"
      ]
     },
     "execution_count": 98,
     "metadata": {},
     "output_type": "execute_result"
    }
   ],
   "source": [
    "~-6"
   ]
  },
  {
   "cell_type": "code",
   "execution_count": 99,
   "id": "c82a46a9-e61d-4738-bfa6-4b257711a992",
   "metadata": {},
   "outputs": [
    {
     "data": {
      "text/plain": [
       "6"
      ]
     },
     "execution_count": 99,
     "metadata": {},
     "output_type": "execute_result"
    }
   ],
   "source": [
    "## Bitwise xor Operator >> represented by '^' (6) key button\n",
    "5^3"
   ]
  },
  {
   "cell_type": "code",
   "execution_count": 101,
   "id": "7f894b4a-b2ab-4756-8495-4e9dd580e91e",
   "metadata": {},
   "outputs": [
    {
     "data": {
      "text/plain": [
       "'0b101'"
      ]
     },
     "execution_count": 101,
     "metadata": {},
     "output_type": "execute_result"
    }
   ],
   "source": [
    "bin(5)"
   ]
  },
  {
   "cell_type": "code",
   "execution_count": 102,
   "id": "624128b0-0ad1-474f-b05a-512e5e505953",
   "metadata": {},
   "outputs": [
    {
     "data": {
      "text/plain": [
       "'0b11'"
      ]
     },
     "execution_count": 102,
     "metadata": {},
     "output_type": "execute_result"
    }
   ],
   "source": [
    "bin(3)"
   ]
  },
  {
   "cell_type": "code",
   "execution_count": 103,
   "id": "092a50ac-c06b-4fb3-bd04-618a914b1677",
   "metadata": {},
   "outputs": [
    {
     "data": {
      "text/plain": [
       "'0b110'"
      ]
     },
     "execution_count": 103,
     "metadata": {},
     "output_type": "execute_result"
    }
   ],
   "source": [
    "bin(6)"
   ]
  },
  {
   "cell_type": "code",
   "execution_count": 106,
   "id": "ecbd1dad-76ba-492d-a367-bf758352cbbd",
   "metadata": {},
   "outputs": [],
   "source": [
    "#shift operator >> LEft and right Shift >> shifts the bits by left or right "
   ]
  },
  {
   "cell_type": "code",
   "execution_count": 105,
   "id": "e43bc7a8-4ea6-4f54-b9a2-6f2fad383210",
   "metadata": {},
   "outputs": [
    {
     "data": {
      "text/plain": [
       "280"
      ]
     },
     "execution_count": 105,
     "metadata": {},
     "output_type": "execute_result"
    }
   ],
   "source": [
    "35<< 3\n",
    "#Left shift operator >> shifts the bits to the left by specified no of position by filing 0 onthe right "
   ]
  },
  {
   "cell_type": "code",
   "execution_count": 107,
   "id": "d1834667-c45a-4efa-84ac-f4860d8ce760",
   "metadata": {},
   "outputs": [
    {
     "data": {
      "text/plain": [
       "'0b100011'"
      ]
     },
     "execution_count": 107,
     "metadata": {},
     "output_type": "execute_result"
    }
   ],
   "source": [
    "bin(35)"
   ]
  },
  {
   "cell_type": "code",
   "execution_count": 108,
   "id": "3f6c1d7e-102b-4e13-8b85-88d561f715d9",
   "metadata": {},
   "outputs": [
    {
     "data": {
      "text/plain": [
       "'0b11'"
      ]
     },
     "execution_count": 108,
     "metadata": {},
     "output_type": "execute_result"
    }
   ],
   "source": [
    "bin(3)"
   ]
  },
  {
   "cell_type": "code",
   "execution_count": 109,
   "id": "39a699e3-6ee8-4a82-9f5f-8a0603ad2586",
   "metadata": {},
   "outputs": [
    {
     "data": {
      "text/plain": [
       "'0b100011000'"
      ]
     },
     "execution_count": 109,
     "metadata": {},
     "output_type": "execute_result"
    }
   ],
   "source": [
    "bin(280)"
   ]
  },
  {
   "cell_type": "code",
   "execution_count": 110,
   "id": "46db6823-1668-4fdc-aaf1-90289cf837d3",
   "metadata": {},
   "outputs": [
    {
     "data": {
      "text/plain": [
       "10"
      ]
     },
     "execution_count": 110,
     "metadata": {},
     "output_type": "execute_result"
    }
   ],
   "source": [
    "5 << 1"
   ]
  },
  {
   "cell_type": "code",
   "execution_count": 112,
   "id": "181f99fb-6e8e-4873-b684-ff5f4809581b",
   "metadata": {},
   "outputs": [
    {
     "data": {
      "text/plain": [
       "'0b101'"
      ]
     },
     "execution_count": 112,
     "metadata": {},
     "output_type": "execute_result"
    }
   ],
   "source": [
    "bin(5)"
   ]
  },
  {
   "cell_type": "code",
   "execution_count": 113,
   "id": "019cc7e5-a503-4a46-92de-33324880cfe4",
   "metadata": {},
   "outputs": [
    {
     "data": {
      "text/plain": [
       "'0b1'"
      ]
     },
     "execution_count": 113,
     "metadata": {},
     "output_type": "execute_result"
    }
   ],
   "source": [
    "bin(1)"
   ]
  },
  {
   "cell_type": "code",
   "execution_count": 114,
   "id": "c02621b1-2f81-4c64-a277-c08948dafbc6",
   "metadata": {},
   "outputs": [
    {
     "data": {
      "text/plain": [
       "'0b1010'"
      ]
     },
     "execution_count": 114,
     "metadata": {},
     "output_type": "execute_result"
    }
   ],
   "source": [
    "bin(10)"
   ]
  },
  {
   "cell_type": "code",
   "execution_count": 115,
   "id": "9474fa5b-3c87-4d79-b61b-f72bbed687b1",
   "metadata": {},
   "outputs": [
    {
     "data": {
      "text/plain": [
       "35"
      ]
     },
     "execution_count": 115,
     "metadata": {},
     "output_type": "execute_result"
    }
   ],
   "source": [
    "# RIght SHift Operator >> Remove the no of elements in the Binary \n",
    "280 >> 3"
   ]
  },
  {
   "cell_type": "code",
   "execution_count": 116,
   "id": "764a6985-0522-43b3-bfd8-10e163cf5548",
   "metadata": {},
   "outputs": [
    {
     "data": {
      "text/plain": [
       "'0b100011000'"
      ]
     },
     "execution_count": 116,
     "metadata": {},
     "output_type": "execute_result"
    }
   ],
   "source": [
    "bin(280)"
   ]
  },
  {
   "cell_type": "code",
   "execution_count": 117,
   "id": "e23e4542-541d-4032-8c56-31eecd67c72c",
   "metadata": {},
   "outputs": [
    {
     "data": {
      "text/plain": [
       "'0b11'"
      ]
     },
     "execution_count": 117,
     "metadata": {},
     "output_type": "execute_result"
    }
   ],
   "source": [
    "bin(3)"
   ]
  },
  {
   "cell_type": "code",
   "execution_count": 118,
   "id": "f7c1a84c-62ee-4ec4-9693-7160fb61b6f2",
   "metadata": {},
   "outputs": [
    {
     "data": {
      "text/plain": [
       "'0b100011'"
      ]
     },
     "execution_count": 118,
     "metadata": {},
     "output_type": "execute_result"
    }
   ],
   "source": [
    "bin(35)"
   ]
  },
  {
   "cell_type": "code",
   "execution_count": 119,
   "id": "323a78ed-ebe0-4af9-8d50-40e738dbee7c",
   "metadata": {},
   "outputs": [],
   "source": [
    "# Order of Presdence \n",
    "# Execution of python statement will always start form left to right "
   ]
  },
  {
   "cell_type": "code",
   "execution_count": 120,
   "id": "ab27d553-df92-42ed-b95b-23306ba0e371",
   "metadata": {},
   "outputs": [
    {
     "data": {
      "text/plain": [
       "13"
      ]
     },
     "execution_count": 120,
     "metadata": {},
     "output_type": "execute_result"
    }
   ],
   "source": [
    "b = 5\n",
    "b+=8\n",
    "b"
   ]
  },
  {
   "cell_type": "code",
   "execution_count": 121,
   "id": "b6fefdf6-d5ee-41ba-a287-0b59848ab45a",
   "metadata": {},
   "outputs": [
    {
     "data": {
      "text/plain": [
       "-3"
      ]
     },
     "execution_count": 121,
     "metadata": {},
     "output_type": "execute_result"
    }
   ],
   "source": [
    "2+3-8"
   ]
  },
  {
   "cell_type": "code",
   "execution_count": 122,
   "id": "e6fe8f6e-830a-4949-9b93-d3523de7596b",
   "metadata": {},
   "outputs": [
    {
     "data": {
      "text/plain": [
       "4"
      ]
     },
     "execution_count": 122,
     "metadata": {},
     "output_type": "execute_result"
    }
   ],
   "source": [
    "# always parenthesis \n",
    "(5+3) - 4"
   ]
  },
  {
   "cell_type": "code",
   "execution_count": 123,
   "id": "78b25edb-6344-4165-a586-e010a1cea48a",
   "metadata": {},
   "outputs": [
    {
     "data": {
      "text/plain": [
       "-4"
      ]
     },
     "execution_count": 123,
     "metadata": {},
     "output_type": "execute_result"
    }
   ],
   "source": [
    "4-(5+3)"
   ]
  },
  {
   "cell_type": "code",
   "execution_count": 125,
   "id": "9be137fb-6203-4fdf-8e0a-49a3aaabc4b2",
   "metadata": {},
   "outputs": [
    {
     "data": {
      "text/plain": [
       "19"
      ]
     },
     "execution_count": 125,
     "metadata": {},
     "output_type": "execute_result"
    }
   ],
   "source": [
    "(10+5) + (8//2)"
   ]
  },
  {
   "cell_type": "code",
   "execution_count": null,
   "id": "c8c37154-a5ee-4006-91ea-9124f6278486",
   "metadata": {},
   "outputs": [],
   "source": []
  }
 ],
 "metadata": {
  "kernelspec": {
   "display_name": "Python 3 (ipykernel)",
   "language": "python",
   "name": "python3"
  },
  "language_info": {
   "codemirror_mode": {
    "name": "ipython",
    "version": 3
   },
   "file_extension": ".py",
   "mimetype": "text/x-python",
   "name": "python",
   "nbconvert_exporter": "python",
   "pygments_lexer": "ipython3",
   "version": "3.13.2"
  }
 },
 "nbformat": 4,
 "nbformat_minor": 5
}
