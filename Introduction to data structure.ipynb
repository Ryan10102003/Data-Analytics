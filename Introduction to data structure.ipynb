{
 "cells": [
  {
   "cell_type": "code",
   "execution_count": 12,
   "id": "d8802b29-e01c-4cbc-a88d-77ec72dc2592",
   "metadata": {},
   "outputs": [],
   "source": [
    "# Introduction to data structure"
   ]
  },
  {
   "cell_type": "code",
   "execution_count": 14,
   "id": "3bbe829c-dc35-4b00-87a5-2ba75d7f2a6f",
   "metadata": {},
   "outputs": [],
   "source": [
    "# Data Structure >> where data can be accessed and manipulated easily"
   ]
  },
  {
   "cell_type": "code",
   "execution_count": 16,
   "id": "643fa85e-fbfd-4f09-a1b9-9c9bec268cb3",
   "metadata": {},
   "outputs": [],
   "source": [
    "# Data Structure >> string, list, set, tuples, dicitionary, array"
   ]
  },
  {
   "cell_type": "code",
   "execution_count": 15,
   "id": "ec0a370c-02b7-4ae5-93f9-735de59188e3",
   "metadata": {},
   "outputs": [],
   "source": [
    "a = \"Ryan\""
   ]
  },
  {
   "cell_type": "code",
   "execution_count": 4,
   "id": "ced012af-8940-404d-adaf-b26db3d6759b",
   "metadata": {},
   "outputs": [
    {
     "data": {
      "text/plain": [
       "'Ryan'"
      ]
     },
     "execution_count": 4,
     "metadata": {},
     "output_type": "execute_result"
    }
   ],
   "source": [
    "a "
   ]
  },
  {
   "cell_type": "code",
   "execution_count": 5,
   "id": "78b2cfb4-b1f9-4b02-ba9a-aa6712c95d76",
   "metadata": {},
   "outputs": [
    {
     "data": {
      "text/plain": [
       "str"
      ]
     },
     "execution_count": 5,
     "metadata": {},
     "output_type": "execute_result"
    }
   ],
   "source": [
    "type(a)"
   ]
  },
  {
   "cell_type": "code",
   "execution_count": 17,
   "id": "378cd8d1-3e0e-4c44-a69c-9d40b1a96035",
   "metadata": {},
   "outputs": [],
   "source": [
    "# List >> you can anything in list >> can store hetrogenous data \n",
    "# List is a order collection of elements that can be of any data type.\n",
    "# List are mutable \n"
   ]
  },
  {
   "cell_type": "code",
   "execution_count": 20,
   "id": "5e5d7bd7-7a49-4924-9d1e-9e8f4606a4f9",
   "metadata": {},
   "outputs": [],
   "source": [
    "num = [1,2,3,4,5]"
   ]
  },
  {
   "cell_type": "code",
   "execution_count": 21,
   "id": "bfd9acf0-237b-4d29-8aaa-c985dea95c6e",
   "metadata": {},
   "outputs": [
    {
     "data": {
      "text/plain": [
       "[1, 2, 3, 4, 5]"
      ]
     },
     "execution_count": 21,
     "metadata": {},
     "output_type": "execute_result"
    }
   ],
   "source": [
    "num"
   ]
  },
  {
   "cell_type": "code",
   "execution_count": 22,
   "id": "1bdf4bfe-b2a6-4399-bd4d-7de854cf3748",
   "metadata": {},
   "outputs": [
    {
     "data": {
      "text/plain": [
       "list"
      ]
     },
     "execution_count": 22,
     "metadata": {},
     "output_type": "execute_result"
    }
   ],
   "source": [
    "type(num)"
   ]
  },
  {
   "cell_type": "code",
   "execution_count": 23,
   "id": "a4e0b0a0-fa8b-45c2-adbb-62c648221507",
   "metadata": {},
   "outputs": [
    {
     "data": {
      "text/plain": [
       "1"
      ]
     },
     "execution_count": 23,
     "metadata": {},
     "output_type": "execute_result"
    }
   ],
   "source": [
    "num[0]"
   ]
  },
  {
   "cell_type": "code",
   "execution_count": 24,
   "id": "878d4187-6683-42a6-8976-da301f5fe493",
   "metadata": {},
   "outputs": [
    {
     "data": {
      "text/plain": [
       "2"
      ]
     },
     "execution_count": 24,
     "metadata": {},
     "output_type": "execute_result"
    }
   ],
   "source": [
    "num[1]"
   ]
  },
  {
   "cell_type": "code",
   "execution_count": 25,
   "id": "cadd7823-c704-4501-ba6b-fd1b4d867ef5",
   "metadata": {},
   "outputs": [
    {
     "data": {
      "text/plain": [
       "1"
      ]
     },
     "execution_count": 25,
     "metadata": {},
     "output_type": "execute_result"
    }
   ],
   "source": [
    "num[-5]"
   ]
  },
  {
   "cell_type": "code",
   "execution_count": 27,
   "id": "8055402f-f725-4847-938e-d14ae2be74bf",
   "metadata": {},
   "outputs": [
    {
     "ename": "IndexError",
     "evalue": "list index out of range",
     "output_type": "error",
     "traceback": [
      "\u001b[31m---------------------------------------------------------------------------\u001b[39m",
      "\u001b[31mIndexError\u001b[39m                                Traceback (most recent call last)",
      "\u001b[36mCell\u001b[39m\u001b[36m \u001b[39m\u001b[32mIn[27]\u001b[39m\u001b[32m, line 1\u001b[39m\n\u001b[32m----> \u001b[39m\u001b[32m1\u001b[39m \u001b[43mnum\u001b[49m\u001b[43m[\u001b[49m\u001b[32;43m6\u001b[39;49m\u001b[43m]\u001b[49m \u001b[38;5;66;03m# An error list index out of range\u001b[39;00m\n",
      "\u001b[31mIndexError\u001b[39m: list index out of range"
     ]
    }
   ],
   "source": [
    "num[6] # An error list index out of range"
   ]
  },
  {
   "cell_type": "code",
   "execution_count": 31,
   "id": "3e47ea41-fa34-4ff9-b23a-94d2d9a9633f",
   "metadata": {},
   "outputs": [],
   "source": [
    "a = [1,2,3,4,5,'Ryan', 'Tomato']"
   ]
  },
  {
   "cell_type": "code",
   "execution_count": 32,
   "id": "8388995a-57b5-469b-9ee6-ae346e4516d7",
   "metadata": {},
   "outputs": [
    {
     "data": {
      "text/plain": [
       "[1, 2, 3, 4, 5, 'Ryan', 'Tomato']"
      ]
     },
     "execution_count": 32,
     "metadata": {},
     "output_type": "execute_result"
    }
   ],
   "source": [
    "a"
   ]
  },
  {
   "cell_type": "code",
   "execution_count": 33,
   "id": "8115a272-3e08-4221-9c34-4e7ff421e3d0",
   "metadata": {},
   "outputs": [
    {
     "data": {
      "text/plain": [
       "list"
      ]
     },
     "execution_count": 33,
     "metadata": {},
     "output_type": "execute_result"
    }
   ],
   "source": [
    "type(a)"
   ]
  },
  {
   "cell_type": "code",
   "execution_count": 34,
   "id": "d903d382-286d-4535-a530-d0acbd04d4e1",
   "metadata": {},
   "outputs": [],
   "source": [
    "# adding element to a list "
   ]
  },
  {
   "cell_type": "code",
   "execution_count": 37,
   "id": "9e58f9ba-d8d0-4aa3-8568-cd2ef53927a3",
   "metadata": {},
   "outputs": [],
   "source": [
    "a. append('True')"
   ]
  },
  {
   "cell_type": "code",
   "execution_count": 38,
   "id": "25dfd738-c64f-4737-a661-77312c2b05f3",
   "metadata": {},
   "outputs": [
    {
     "data": {
      "text/plain": [
       "[1, 2, 3, 4, 5, 'Ryan', 'Tomato', 'True']"
      ]
     },
     "execution_count": 38,
     "metadata": {},
     "output_type": "execute_result"
    }
   ],
   "source": [
    "a"
   ]
  },
  {
   "cell_type": "code",
   "execution_count": 43,
   "id": "01a31a63-8790-4921-b02a-0636663eb350",
   "metadata": {},
   "outputs": [],
   "source": [
    "a. append(\"Chettiar\")"
   ]
  },
  {
   "cell_type": "code",
   "execution_count": 42,
   "id": "b32594ca-b9f4-4fb9-978f-deee6b50a72c",
   "metadata": {},
   "outputs": [
    {
     "data": {
      "text/plain": [
       "[1, 2, 3, 4, 5, 'Ryan', 'Tomato', 'True', 'Chettiar', 'Chettiar']"
      ]
     },
     "execution_count": 42,
     "metadata": {},
     "output_type": "execute_result"
    }
   ],
   "source": [
    "a"
   ]
  },
  {
   "cell_type": "code",
   "execution_count": 44,
   "id": "8bc1270c-46ff-4254-9c75-3a6c4472ec4c",
   "metadata": {},
   "outputs": [],
   "source": [
    "a.remove(5)"
   ]
  },
  {
   "cell_type": "code",
   "execution_count": 45,
   "id": "8c0564c3-c734-4ce4-afe7-7c7f575c6870",
   "metadata": {},
   "outputs": [
    {
     "data": {
      "text/plain": [
       "[1, 2, 3, 4, 'Ryan', 'Tomato', 'True', 'Chettiar', 'Chettiar', 'Chettiar']"
      ]
     },
     "execution_count": 45,
     "metadata": {},
     "output_type": "execute_result"
    }
   ],
   "source": [
    "a"
   ]
  },
  {
   "cell_type": "code",
   "execution_count": 46,
   "id": "b6353107-86f6-48f4-950a-1fe2c8b0e5a1",
   "metadata": {},
   "outputs": [],
   "source": [
    "a.remove(\"Ryan\")"
   ]
  },
  {
   "cell_type": "code",
   "execution_count": 47,
   "id": "4cd091db-699d-4c1e-9990-ecf5af8448cd",
   "metadata": {},
   "outputs": [
    {
     "data": {
      "text/plain": [
       "[1, 2, 3, 4, 'Tomato', 'True', 'Chettiar', 'Chettiar', 'Chettiar']"
      ]
     },
     "execution_count": 47,
     "metadata": {},
     "output_type": "execute_result"
    }
   ],
   "source": [
    "a"
   ]
  },
  {
   "cell_type": "code",
   "execution_count": 48,
   "id": "633fa636-c98a-4c07-9e11-db22c8c1d967",
   "metadata": {},
   "outputs": [],
   "source": [
    "a.remove(\"Chettiar\")"
   ]
  },
  {
   "cell_type": "code",
   "execution_count": 49,
   "id": "fb534fb7-9ed8-413a-a659-fc408f1034f6",
   "metadata": {},
   "outputs": [
    {
     "data": {
      "text/plain": [
       "[1, 2, 3, 4, 'Tomato', 'True', 'Chettiar', 'Chettiar']"
      ]
     },
     "execution_count": 49,
     "metadata": {},
     "output_type": "execute_result"
    }
   ],
   "source": [
    "a"
   ]
  },
  {
   "cell_type": "code",
   "execution_count": 50,
   "id": "24487d5d-04ac-4133-9550-4e6cb4016ea8",
   "metadata": {},
   "outputs": [],
   "source": [
    "list = [(1,2,3,4,5,6)]"
   ]
  },
  {
   "cell_type": "code",
   "execution_count": 51,
   "id": "77e1d503-e911-4478-8310-3e916763e754",
   "metadata": {},
   "outputs": [
    {
     "data": {
      "text/plain": [
       "[(1, 2, 3, 4, 5, 6)]"
      ]
     },
     "execution_count": 51,
     "metadata": {},
     "output_type": "execute_result"
    }
   ],
   "source": [
    "list"
   ]
  },
  {
   "cell_type": "code",
   "execution_count": 52,
   "id": "934e7e5f-f572-4969-9ffb-a9b03d763cb8",
   "metadata": {},
   "outputs": [
    {
     "data": {
      "text/plain": [
       "list"
      ]
     },
     "execution_count": 52,
     "metadata": {},
     "output_type": "execute_result"
    }
   ],
   "source": [
    "type(list)"
   ]
  },
  {
   "cell_type": "code",
   "execution_count": 59,
   "id": "5d1baeb7-b90e-424d-abbc-8b686edaebfe",
   "metadata": {},
   "outputs": [],
   "source": [
    "# List is mutable\n",
    "shopping_list = ['bhaigan', 'apple', 'Orange']\n"
   ]
  },
  {
   "cell_type": "code",
   "execution_count": 57,
   "id": "adae06cf-5761-49b0-95a3-0bea167acef2",
   "metadata": {},
   "outputs": [
    {
     "data": {
      "text/plain": [
       "['bhaigan', 'apple', 'Orange']"
      ]
     },
     "execution_count": 57,
     "metadata": {},
     "output_type": "execute_result"
    }
   ],
   "source": [
    "shopping_list"
   ]
  },
  {
   "cell_type": "code",
   "execution_count": 60,
   "id": "696b8a38-eb37-42aa-8ce3-707e42d814ce",
   "metadata": {},
   "outputs": [],
   "source": [
    "shopping_list[1] = \"Lady Finger\""
   ]
  },
  {
   "cell_type": "code",
   "execution_count": 61,
   "id": "d12724fd-f1ad-4f01-b064-c09cdb686e61",
   "metadata": {},
   "outputs": [
    {
     "data": {
      "text/plain": [
       "['bhaigan', 'Lady Finger', 'Orange']"
      ]
     },
     "execution_count": 61,
     "metadata": {},
     "output_type": "execute_result"
    }
   ],
   "source": [
    "shopping_list"
   ]
  },
  {
   "cell_type": "code",
   "execution_count": 67,
   "id": "738f187c-62f5-412e-babe-2f17e8b4feab",
   "metadata": {},
   "outputs": [
    {
     "name": "stdout",
     "output_type": "stream",
     "text": [
      "bhaiganLady FingerOrange"
     ]
    }
   ],
   "source": [
    "for item in shopping_list:\n",
    "    print(item, end = \"\")\n",
    "\n",
    "\n",
    "# Use of list can store any data and it is mutalble "
   ]
  },
  {
   "cell_type": "code",
   "execution_count": 66,
   "id": "4190ceb1-b793-411d-bed6-9d7acded9da3",
   "metadata": {},
   "outputs": [],
   "source": [
    "## Tuples >> This is imutable\n",
    "# Define ()\n"
   ]
  },
  {
   "cell_type": "code",
   "execution_count": 68,
   "id": "ab2ed354-14d0-4235-9ccf-14e394d67d14",
   "metadata": {},
   "outputs": [],
   "source": [
    "#Use cases of tuples >> adhar card no, Atm, Employee ID, you will use () tuple to store the data "
   ]
  },
  {
   "cell_type": "code",
   "execution_count": 69,
   "id": "d941b999-c7d3-4c4e-852e-dcac294f38fd",
   "metadata": {},
   "outputs": [],
   "source": [
    "t = (1,2,3,2.3,4)"
   ]
  },
  {
   "cell_type": "code",
   "execution_count": 70,
   "id": "42872a89-931b-4c58-b8fd-34ff3233dfd9",
   "metadata": {},
   "outputs": [
    {
     "data": {
      "text/plain": [
       "(1, 2, 3, 2.3, 4)"
      ]
     },
     "execution_count": 70,
     "metadata": {},
     "output_type": "execute_result"
    }
   ],
   "source": [
    "t"
   ]
  },
  {
   "cell_type": "code",
   "execution_count": 71,
   "id": "ca6050fa-ee70-4d2c-9936-91cded62e120",
   "metadata": {},
   "outputs": [
    {
     "data": {
      "text/plain": [
       "tuple"
      ]
     },
     "execution_count": 71,
     "metadata": {},
     "output_type": "execute_result"
    }
   ],
   "source": [
    "type(t)"
   ]
  },
  {
   "cell_type": "code",
   "execution_count": 72,
   "id": "6ce5aa8a-327f-42ed-a2c5-f0f439c0cacf",
   "metadata": {},
   "outputs": [],
   "source": [
    "#Tuple can store hetrogeneous data "
   ]
  },
  {
   "cell_type": "code",
   "execution_count": 73,
   "id": "f13a1d5a-ae1e-4ac4-9199-7e6124fe6d4e",
   "metadata": {},
   "outputs": [],
   "source": [
    "employee_name = (\"Ryan1\", \"Ryan2\", \"Ajay\")"
   ]
  },
  {
   "cell_type": "code",
   "execution_count": 75,
   "id": "226753fc-8eea-4f22-96d4-faaaa88fa537",
   "metadata": {},
   "outputs": [
    {
     "data": {
      "text/plain": [
       "'Ryan1'"
      ]
     },
     "execution_count": 75,
     "metadata": {},
     "output_type": "execute_result"
    }
   ],
   "source": [
    "employee_name [0]"
   ]
  },
  {
   "cell_type": "code",
   "execution_count": 76,
   "id": "b21477ab-ffc3-47ed-aa14-8f30ad81ec82",
   "metadata": {},
   "outputs": [
    {
     "data": {
      "text/plain": [
       "'Ryan2'"
      ]
     },
     "execution_count": 76,
     "metadata": {},
     "output_type": "execute_result"
    }
   ],
   "source": [
    "employee_name [1]"
   ]
  },
  {
   "cell_type": "code",
   "execution_count": 77,
   "id": "2c0b739e-f8df-45d3-85d2-281eedc8a61e",
   "metadata": {},
   "outputs": [
    {
     "data": {
      "text/plain": [
       "'Ajay'"
      ]
     },
     "execution_count": 77,
     "metadata": {},
     "output_type": "execute_result"
    }
   ],
   "source": [
    "employee_name [-1]"
   ]
  },
  {
   "cell_type": "code",
   "execution_count": 79,
   "id": "9d6b18ed-c9f0-47ba-9ab5-71ff66a935e4",
   "metadata": {},
   "outputs": [
    {
     "data": {
      "text/plain": [
       "'Ajay'"
      ]
     },
     "execution_count": 79,
     "metadata": {},
     "output_type": "execute_result"
    }
   ],
   "source": [
    "employee_name[2]"
   ]
  },
  {
   "cell_type": "code",
   "execution_count": 81,
   "id": "fb8b2518-410f-45d4-8de8-752520d7be04",
   "metadata": {},
   "outputs": [
    {
     "ename": "TypeError",
     "evalue": "'tuple' object does not support item assignment",
     "output_type": "error",
     "traceback": [
      "\u001b[31m---------------------------------------------------------------------------\u001b[39m",
      "\u001b[31mTypeError\u001b[39m                                 Traceback (most recent call last)",
      "\u001b[36mCell\u001b[39m\u001b[36m \u001b[39m\u001b[32mIn[81]\u001b[39m\u001b[32m, line 1\u001b[39m\n\u001b[32m----> \u001b[39m\u001b[32m1\u001b[39m \u001b[43memployee_name\u001b[49m\u001b[43m \u001b[49m\u001b[43m[\u001b[49m\u001b[32;43m1\u001b[39;49m\u001b[43m]\u001b[49m = \u001b[33m\"\u001b[39m\u001b[33mRahul\u001b[39m\u001b[33m\"\u001b[39m \u001b[38;5;66;03m# Tuple is immutable\u001b[39;00m\n",
      "\u001b[31mTypeError\u001b[39m: 'tuple' object does not support item assignment"
     ]
    }
   ],
   "source": [
    "employee_name [1] = \"Rahul\" # Tuple is immutable"
   ]
  },
  {
   "cell_type": "code",
   "execution_count": 84,
   "id": "8d0b4187-567f-4ba7-8316-b995ea7f290d",
   "metadata": {},
   "outputs": [],
   "source": [
    "box1 = (\"a\", \"b\" )\n",
    "box2 = (\"3\", \"4\")\n",
    "choc_bag = (box1, box2)"
   ]
  },
  {
   "cell_type": "code",
   "execution_count": 85,
   "id": "7fe7a459-6399-438c-bbf8-e8f04aea58ff",
   "metadata": {},
   "outputs": [
    {
     "data": {
      "text/plain": [
       "tuple"
      ]
     },
     "execution_count": 85,
     "metadata": {},
     "output_type": "execute_result"
    }
   ],
   "source": [
    "type(choc_bag)"
   ]
  },
  {
   "cell_type": "code",
   "execution_count": 86,
   "id": "749cf04a-f6d0-406a-acfa-060891384f77",
   "metadata": {},
   "outputs": [
    {
     "data": {
      "text/plain": [
       "(('a', 'b'), ('3', '4'))"
      ]
     },
     "execution_count": 86,
     "metadata": {},
     "output_type": "execute_result"
    }
   ],
   "source": [
    "(choc_bag)"
   ]
  },
  {
   "cell_type": "code",
   "execution_count": 87,
   "id": "d4e97296-fb2f-46ca-8787-a3ed57597142",
   "metadata": {},
   "outputs": [
    {
     "name": "stdout",
     "output_type": "stream",
     "text": [
      "a\n",
      "b\n",
      "3\n",
      "4\n"
     ]
    }
   ],
   "source": [
    "for box in choc_bag:\n",
    "    for choc in box:\n",
    "        print(choc)"
   ]
  },
  {
   "cell_type": "code",
   "execution_count": 88,
   "id": "e0f32885-0547-48f6-bbdc-8a1205d150e8",
   "metadata": {},
   "outputs": [],
   "source": [
    "# Sets >> are unordered collection of unique elements "
   ]
  },
  {
   "cell_type": "code",
   "execution_count": 91,
   "id": "68fd8cb1-5b46-49cc-9a91-4b2e85d4817c",
   "metadata": {},
   "outputs": [],
   "source": [
    "s = {\"red\", \"Orange\"}"
   ]
  },
  {
   "cell_type": "code",
   "execution_count": 92,
   "id": "73937667-c57d-4645-8dd2-57258e4cb684",
   "metadata": {},
   "outputs": [
    {
     "data": {
      "text/plain": [
       "set"
      ]
     },
     "execution_count": 92,
     "metadata": {},
     "output_type": "execute_result"
    }
   ],
   "source": [
    "type(s)"
   ]
  },
  {
   "cell_type": "code",
   "execution_count": 94,
   "id": "52b9d003-ca6b-4dcb-b083-f282b59bdaa5",
   "metadata": {},
   "outputs": [
    {
     "data": {
      "text/plain": [
       "{'Orange', 'Yellow', 'red'}"
      ]
     },
     "execution_count": 94,
     "metadata": {},
     "output_type": "execute_result"
    }
   ],
   "source": [
    "s = {\"red\", \"Orange\", \"red\", \"Yellow\"}\n",
    "s"
   ]
  },
  {
   "cell_type": "code",
   "execution_count": 96,
   "id": "64e19048-24e7-4984-a3c7-a258e466f74d",
   "metadata": {},
   "outputs": [
    {
     "data": {
      "text/plain": [
       "{'Banana', 'Egg', 'Orange', 'apple'}"
      ]
     },
     "execution_count": 96,
     "metadata": {},
     "output_type": "execute_result"
    }
   ],
   "source": [
    "# use case of sets >> used to get unique elements \n",
    "List = {\"apple\", \"Banana\", \"Egg\", \"Orange\", \"Egg\"}\n",
    "List"
   ]
  },
  {
   "cell_type": "code",
   "execution_count": 97,
   "id": "143c57fb-f0f7-4600-8a33-332be54533a6",
   "metadata": {},
   "outputs": [],
   "source": [
    "### Dictionaries >>> Fastest Data structure >> which stores the data i the key value pair\n",
    "my_dict = {}"
   ]
  },
  {
   "cell_type": "code",
   "execution_count": 98,
   "id": "391de6f3-1440-4f28-af16-c78cff705df3",
   "metadata": {},
   "outputs": [
    {
     "data": {
      "text/plain": [
       "dict"
      ]
     },
     "execution_count": 98,
     "metadata": {},
     "output_type": "execute_result"
    }
   ],
   "source": [
    "type(my_dict)"
   ]
  },
  {
   "cell_type": "code",
   "execution_count": 103,
   "id": "95ca3f6e-e14a-461c-8943-44f9bd7a12aa",
   "metadata": {},
   "outputs": [],
   "source": [
    "my_dict = {\"Course\": \"Data_Science\", \"Duration\":200 }"
   ]
  },
  {
   "cell_type": "code",
   "execution_count": 105,
   "id": "144cbadc-7470-4dc3-9263-3531adffbaf3",
   "metadata": {},
   "outputs": [
    {
     "data": {
      "text/plain": [
       "dict"
      ]
     },
     "execution_count": 105,
     "metadata": {},
     "output_type": "execute_result"
    }
   ],
   "source": [
    "type(my_dict)"
   ]
  },
  {
   "cell_type": "code",
   "execution_count": 106,
   "id": "4386579e-1fda-417c-9212-c5a6501c281d",
   "metadata": {},
   "outputs": [
    {
     "data": {
      "text/plain": [
       "{'Course': 'Data_Science', 'Duration': 200}"
      ]
     },
     "execution_count": 106,
     "metadata": {},
     "output_type": "execute_result"
    }
   ],
   "source": [
    "my_dict"
   ]
  },
  {
   "cell_type": "code",
   "execution_count": 109,
   "id": "c62a3588-1b11-4615-ac04-d0bf2043a172",
   "metadata": {},
   "outputs": [],
   "source": [
    "# Use cases \n",
    "Phonebook = {\"Dad\": 1234, \"MOm\": 456789}"
   ]
  },
  {
   "cell_type": "code",
   "execution_count": 110,
   "id": "4f96d7ed-7f7d-4ce8-8496-9c13a0b15eca",
   "metadata": {},
   "outputs": [
    {
     "data": {
      "text/plain": [
       "{'Dad': 1234, 'MOm': 456789}"
      ]
     },
     "execution_count": 110,
     "metadata": {},
     "output_type": "execute_result"
    }
   ],
   "source": [
    "Phonebook "
   ]
  },
  {
   "cell_type": "code",
   "execution_count": 111,
   "id": "fb651606-441a-4cc3-92a9-b5726d1d1cd9",
   "metadata": {},
   "outputs": [
    {
     "data": {
      "text/plain": [
       "dict"
      ]
     },
     "execution_count": 111,
     "metadata": {},
     "output_type": "execute_result"
    }
   ],
   "source": [
    "type(Phonebook)"
   ]
  },
  {
   "cell_type": "code",
   "execution_count": 115,
   "id": "5201005d-4cc0-474b-8c6e-7a47795c96f8",
   "metadata": {},
   "outputs": [
    {
     "data": {
      "text/plain": [
       "1234"
      ]
     },
     "execution_count": 115,
     "metadata": {},
     "output_type": "execute_result"
    }
   ],
   "source": [
    "Phonebook [\"Dad\"]"
   ]
  },
  {
   "cell_type": "code",
   "execution_count": 116,
   "id": "0ec5fa47-d107-4db4-98f3-4c94d444a314",
   "metadata": {},
   "outputs": [],
   "source": [
    "Phonebook = {\"Dad\": 1234, \"MOm\": 456789, \"Dad\": 400}"
   ]
  },
  {
   "cell_type": "code",
   "execution_count": 117,
   "id": "32c92946-f32b-4eb0-8bce-9ba949fe74a0",
   "metadata": {},
   "outputs": [
    {
     "data": {
      "text/plain": [
       "400"
      ]
     },
     "execution_count": 117,
     "metadata": {},
     "output_type": "execute_result"
    }
   ],
   "source": [
    "Phonebook [\"Dad\"]"
   ]
  },
  {
   "cell_type": "code",
   "execution_count": 119,
   "id": "1bb64358-c3e2-4fc6-9956-8f48a777b6a8",
   "metadata": {},
   "outputs": [
    {
     "data": {
      "text/plain": [
       "dict_keys(['Dad', 'MOm'])"
      ]
     },
     "execution_count": 119,
     "metadata": {},
     "output_type": "execute_result"
    }
   ],
   "source": [
    "Phonebook.keys()"
   ]
  },
  {
   "cell_type": "code",
   "execution_count": 120,
   "id": "5e6520d8-98f1-4820-a4fe-8830714817c6",
   "metadata": {},
   "outputs": [
    {
     "data": {
      "text/plain": [
       "dict_values([400, 456789])"
      ]
     },
     "execution_count": 120,
     "metadata": {},
     "output_type": "execute_result"
    }
   ],
   "source": [
    "Phonebook.values()"
   ]
  },
  {
   "cell_type": "code",
   "execution_count": 124,
   "id": "edfbd756-e0f9-443d-9d8b-3dc816a114bb",
   "metadata": {},
   "outputs": [],
   "source": [
    "## Array >> Similar to List>> only homogeous Data \n",
    "from array import array"
   ]
  },
  {
   "cell_type": "code",
   "execution_count": 125,
   "id": "1049368f-dff4-40e4-873e-b02117f87535",
   "metadata": {},
   "outputs": [
    {
     "data": {
      "text/plain": [
       "str"
      ]
     },
     "execution_count": 125,
     "metadata": {},
     "output_type": "execute_result"
    }
   ],
   "source": [
    "#String \n",
    "s = \"Ajay\"\n",
    "type(s)"
   ]
  },
  {
   "cell_type": "code",
   "execution_count": 126,
   "id": "146fdb04-bf66-4f4b-a7fc-80fb91b75b08",
   "metadata": {},
   "outputs": [
    {
     "name": "stdout",
     "output_type": "stream",
     "text": [
      "Ajay\n"
     ]
    }
   ],
   "source": [
    "print(s)"
   ]
  },
  {
   "cell_type": "code",
   "execution_count": 128,
   "id": "7e3b9b25-72cf-45a8-8f44-05814fc29ac0",
   "metadata": {},
   "outputs": [
    {
     "name": "stdout",
     "output_type": "stream",
     "text": [
      "A\n",
      "j\n",
      "a\n",
      "y\n"
     ]
    }
   ],
   "source": [
    "for i in s:\n",
    "    print(i)"
   ]
  }
 ],
 "metadata": {
  "kernelspec": {
   "display_name": "Python 3 (ipykernel)",
   "language": "python",
   "name": "python3"
  },
  "language_info": {
   "codemirror_mode": {
    "name": "ipython",
    "version": 3
   },
   "file_extension": ".py",
   "mimetype": "text/x-python",
   "name": "python",
   "nbconvert_exporter": "python",
   "pygments_lexer": "ipython3",
   "version": "3.13.2"
  }
 },
 "nbformat": 4,
 "nbformat_minor": 5
}
