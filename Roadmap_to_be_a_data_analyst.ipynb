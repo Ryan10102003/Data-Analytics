{
  "nbformat": 4,
  "nbformat_minor": 0,
  "metadata": {
    "colab": {
      "provenance": []
    },
    "kernelspec": {
      "name": "python3",
      "display_name": "Python 3"
    },
    "language_info": {
      "name": "python"
    }
  },
  "cells": [
    {
      "cell_type": "markdown",
      "source": [
        "## Roadmap to be a data analyst\n",
        "\n",
        "1st Thing - Understanding the Data\n",
        "Tools - Excel, Python, R, Power BI/ Tableau, SQL and Machine learning/ NLP/ DL\n",
        "\n",
        "**Excel - If else, Formulas, Formatting, Vlookup/H Lookup, Functiions\n",
        "\n",
        "** Python - Basics of Python, Loops, If else, Functions, Libraries\n",
        "\n",
        "** R - Same of Python\n",
        "\n",
        "*** SQL - Queries, Joints, Nested Query, Functions\n",
        "\n",
        "** ML - 2/3 ML models\n",
        "\n",
        "2nd Thing - Projects work (More Projects for Data analyst)\n",
        "\n",
        "\n",
        "Types of Data Analytics\n",
        "1. Descreptive Analytics\n",
        "2. Diagnostic Analytics\n",
        "3. Predective Analytics\n",
        "4. Prescriptive Analytics\n",
        "\n"
      ],
      "metadata": {
        "id": "z9VM04oMmgnD"
      }
    },
    {
      "cell_type": "code",
      "source": [],
      "metadata": {
        "id": "4u2YaXb2oB_W"
      },
      "execution_count": null,
      "outputs": []
    }
  ]
}