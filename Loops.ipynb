{
 "cells": [
  {
   "cell_type": "code",
   "execution_count": null,
   "id": "f754d072-517f-4080-a7a1-5737d7ee4ef3",
   "metadata": {},
   "outputs": [],
   "source": [
    "#Loops statement >> it allows you to execute a block of code repeatedly. \n",
    "# Loops >> While loop and for loops \n"
   ]
  },
  {
   "cell_type": "code",
   "execution_count": null,
   "id": "9171f840-2501-4317-8621-e1a95e20f001",
   "metadata": {},
   "outputs": [],
   "source": [
    "# while Loop >> repeadely executed a block of code until a conditon is met"
   ]
  },
  {
   "cell_type": "code",
   "execution_count": null,
   "id": "be3d807c-3d73-4591-bf15-e1cf6b2556fe",
   "metadata": {},
   "outputs": [],
   "source": [
    "n = 7\n",
    "i = 1\n",
    "while i < n:\n",
    "    print(i)\n",
    "    i = i+1"
   ]
  },
  {
   "cell_type": "code",
   "execution_count": null,
   "id": "f680c2cd-bfc2-4406-9689-010357636a51",
   "metadata": {},
   "outputs": [],
   "source": [
    "count = 5\n",
    "while count > 0:\n",
    "    print(count)\n",
    "    count = count - 1"
   ]
  },
  {
   "cell_type": "code",
   "execution_count": null,
   "id": "28253d4d-2543-45fd-9351-edac1f006216",
   "metadata": {},
   "outputs": [],
   "source": [
    "n = 7\n",
    "i = 1\n",
    "while i < n:\n",
    "    print(i)\n",
    "    i = i+1\n",
    "else:\n",
    "    print(\" This will be executed when the while loop is run successfully without any break\")"
   ]
  },
  {
   "cell_type": "code",
   "execution_count": null,
   "id": "2267ed11-19be-42e9-a3af-98fa084af614",
   "metadata": {},
   "outputs": [],
   "source": [
    "# Break Statement >> Terminates or exit the loop"
   ]
  },
  {
   "cell_type": "code",
   "execution_count": null,
   "id": "19dc9393-cc73-42c8-85dc-9c3a9d7ed3ca",
   "metadata": {},
   "outputs": [],
   "source": [
    "n = 7\n",
    "i = 1\n",
    "while i < n:\n",
    "    print(i)\n",
    "    i = i+1\n",
    "    if i == 3:\n",
    "        break\n",
    "else:\n",
    "    print(\" This will be executed when the while loop is run successfully without any break\")"
   ]
  },
  {
   "cell_type": "code",
   "execution_count": null,
   "id": "12a53041-0263-4e9b-96e8-7247c610c39f",
   "metadata": {},
   "outputs": [],
   "source": [
    "# continue >> skips the iteration \n",
    "n = 7\n",
    "i = 1\n",
    "while i < n:\n",
    "    i = i+1\n",
    "    if i == 3:\n",
    "        continue\n",
    "    print(i)\n",
    "else:\n",
    "    print(\"This will be executed when the while loop is run successfully without any break\")\n"
   ]
  },
  {
   "cell_type": "code",
   "execution_count": null,
   "id": "a772caae-1422-48ba-87d0-92ae464aa0ab",
   "metadata": {},
   "outputs": [],
   "source": [
    "# For Loops >> iterate over a sequence of elements >> Str and List\n",
    "for i in \"Ryan\":\n",
    "    print(i)\n"
   ]
  },
  {
   "cell_type": "code",
   "execution_count": null,
   "id": "3f28f512-92cb-4564-ad5f-68ea1aaa4184",
   "metadata": {},
   "outputs": [],
   "source": [
    "L  =[1,2,3,4,5,6,\"Ryan\"]\n",
    "for i in L:\n",
    "    print(i)"
   ]
  },
  {
   "cell_type": "code",
   "execution_count": null,
   "id": "e8c56875-de88-4258-9a2e-a662710894ca",
   "metadata": {},
   "outputs": [],
   "source": [
    "for i in L:\n",
    "    print(i)\n",
    "else:\n",
    "    print('This will be executed when for loop ends without a break')"
   ]
  },
  {
   "cell_type": "code",
   "execution_count": null,
   "id": "0bbaf6ab-0830-4d7d-aa7b-f73c1284479f",
   "metadata": {},
   "outputs": [],
   "source": [
    "# Break statement in for loop \n",
    "for i in L:\n",
    "    if i == 4:\n",
    "        break\n",
    "    print(i)\n",
    "else:\n",
    "    print('This will be executed when for loop ends without a break')"
   ]
  },
  {
   "cell_type": "code",
   "execution_count": null,
   "id": "2350fb10-0fc9-431a-8c31-58833855d002",
   "metadata": {},
   "outputs": [],
   "source": [
    "for i in L:\n",
    "    if i == 5:\n",
    "        continue\n",
    "    print(i)\n",
    "else:\n",
    "    print('This will be executed when for loop ends without a break')"
   ]
  },
  {
   "cell_type": "code",
   "execution_count": null,
   "id": "77308614-ad8f-4a33-849b-c52dc64758f5",
   "metadata": {},
   "outputs": [],
   "source": [
    "list(range(0,10))# IT WILL give value from 0 to 9 >> Always use list()"
   ]
  },
  {
   "cell_type": "code",
   "execution_count": null,
   "id": "17753407-a6d5-4245-b9dc-3aca857a5382",
   "metadata": {},
   "outputs": [],
   "source": [
    "for i in range(10):\n",
    "    print(i, end= \"  \")"
   ]
  },
  {
   "cell_type": "code",
   "execution_count": null,
   "id": "64d5aa5f-33c3-4f87-b9b4-83a02f8f5f31",
   "metadata": {},
   "outputs": [],
   "source": [
    "list(range(0,100,5))"
   ]
  },
  {
   "cell_type": "code",
   "execution_count": null,
   "id": "4fcc2200-1ed7-47db-8d16-76f6231c370b",
   "metadata": {},
   "outputs": [],
   "source": [
    "# PRoblem Statment\n",
    "#print a right triangle with * using while loop"
   ]
  },
  {
   "cell_type": "code",
   "execution_count": null,
   "id": "63262da8-dfd4-48f8-aaa1-30f0739b7ae3",
   "metadata": {},
   "outputs": [],
   "source": [
    "row = 1\n",
    "while row <= 4:\n",
    "    col = 1\n",
    "    while col <= row:\n",
    "        print(\"*\", end = \"\")\n",
    "        col = col+1\n",
    "    print()\n",
    "    row = row+1"
   ]
  },
  {
   "cell_type": "code",
   "execution_count": null,
   "id": "f545889f-181f-4775-805b-99852efdd832",
   "metadata": {},
   "outputs": [],
   "source": [
    "#print a right triangle with * using for loop"
   ]
  },
  {
   "cell_type": "code",
   "execution_count": null,
   "id": "11670e83-9fca-4dbf-9ce8-46b23bcfe9fc",
   "metadata": {},
   "outputs": [],
   "source": [
    "for i in range(4):\n",
    "    for j in range(i+1):\n",
    "        print(\"*\", end = \"\")\n",
    "    print()"
   ]
  },
  {
   "cell_type": "code",
   "execution_count": 23,
   "id": "4bfb1429-b23d-4cfe-91a1-f5a6a5563162",
   "metadata": {},
   "outputs": [
    {
     "name": "stdout",
     "output_type": "stream",
     "text": [
      "1\n",
      "2\n",
      "4\n",
      "5\n",
      "6\n",
      "8\n",
      "9\n"
     ]
    }
   ],
   "source": [
    "number = [1,2,3,4,5,6,7,8,9]\n",
    "for num in number:\n",
    "    if (num == 3) or (num == 7):\n",
    "        continue\n",
    "    print(num)"
   ]
  },
  {
   "cell_type": "code",
   "execution_count": 24,
   "id": "42bb3c82-1272-4540-975e-db5cef2b3fdd",
   "metadata": {},
   "outputs": [
    {
     "name": "stdout",
     "output_type": "stream",
     "text": [
      "1\n",
      "2\n"
     ]
    }
   ],
   "source": [
    "number = [1,2,3,4,5,6,7,8,9]\n",
    "for num in number:\n",
    "    if (num == 3) or (num == 7):\n",
    "        break\n",
    "    print(num)"
   ]
  },
  {
   "cell_type": "code",
   "execution_count": 25,
   "id": "f6384c4a-80c5-4195-85e4-c013d2de6fdd",
   "metadata": {},
   "outputs": [
    {
     "name": "stdout",
     "output_type": "stream",
     "text": [
      "0\n",
      "2\n",
      "4\n",
      "6\n",
      "8\n"
     ]
    }
   ],
   "source": [
    "# print the even no\n",
    "for i in range(10):\n",
    "    if i % 2 != 0:\n",
    "        continue\n",
    "    print(i)\n",
    "        "
   ]
  },
  {
   "cell_type": "code",
   "execution_count": 26,
   "id": "da622759-36da-4f03-bca9-a76b4f3c4a68",
   "metadata": {},
   "outputs": [
    {
     "name": "stdout",
     "output_type": "stream",
     "text": [
      "1\n",
      "3\n",
      "5\n",
      "7\n",
      "9\n"
     ]
    }
   ],
   "source": [
    "# print the odd no\n",
    "for i in range(10):\n",
    "    if i % 2 == 0:\n",
    "        continue\n",
    "    print(i)"
   ]
  },
  {
   "cell_type": "code",
   "execution_count": 31,
   "id": "1d046f33-74bd-4be1-a521-391d5f924ac7",
   "metadata": {},
   "outputs": [
    {
     "name": "stdout",
     "output_type": "stream",
     "text": [
      "1 * 1 = 1\n",
      "1 * 2 = 2\n",
      "1 * 3 = 3\n",
      "1 * 4 = 4\n",
      "1 * 5 = 5\n",
      "1 * 6 = 6\n",
      "1 * 7 = 7\n",
      "1 * 8 = 8\n",
      "1 * 9 = 9\n",
      "1 * 10 = 10\n",
      "\n",
      "2 * 1 = 2\n",
      "2 * 2 = 4\n",
      "2 * 3 = 6\n",
      "2 * 4 = 8\n",
      "2 * 5 = 10\n",
      "2 * 6 = 12\n",
      "2 * 7 = 14\n",
      "2 * 8 = 16\n",
      "2 * 9 = 18\n",
      "2 * 10 = 20\n",
      "\n",
      "3 * 1 = 3\n",
      "3 * 2 = 6\n",
      "3 * 3 = 9\n",
      "3 * 4 = 12\n",
      "3 * 5 = 15\n",
      "3 * 6 = 18\n",
      "3 * 7 = 21\n",
      "3 * 8 = 24\n",
      "3 * 9 = 27\n",
      "3 * 10 = 30\n",
      "\n",
      "4 * 1 = 4\n",
      "4 * 2 = 8\n",
      "4 * 3 = 12\n",
      "4 * 4 = 16\n",
      "4 * 5 = 20\n",
      "4 * 6 = 24\n",
      "4 * 7 = 28\n",
      "4 * 8 = 32\n",
      "4 * 9 = 36\n",
      "4 * 10 = 40\n",
      "\n",
      "5 * 1 = 5\n",
      "5 * 2 = 10\n",
      "5 * 3 = 15\n",
      "5 * 4 = 20\n",
      "5 * 5 = 25\n",
      "5 * 6 = 30\n",
      "5 * 7 = 35\n",
      "5 * 8 = 40\n",
      "5 * 9 = 45\n",
      "5 * 10 = 50\n",
      "\n"
     ]
    }
   ],
   "source": [
    "## Multiplication Table \n",
    "for i in range(1,6):\n",
    "    for j in range (1,11):\n",
    "        product = i*j\n",
    "        print(f\"{i} * {j} = {product}\")\n",
    "    print()"
   ]
  }
 ],
 "metadata": {
  "kernelspec": {
   "display_name": "Python 3 (ipykernel)",
   "language": "python",
   "name": "python3"
  },
  "language_info": {
   "codemirror_mode": {
    "name": "ipython",
    "version": 3
   },
   "file_extension": ".py",
   "mimetype": "text/x-python",
   "name": "python",
   "nbconvert_exporter": "python",
   "pygments_lexer": "ipython3",
   "version": "3.13.2"
  }
 },
 "nbformat": 4,
 "nbformat_minor": 5
}
