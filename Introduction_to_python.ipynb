{
  "nbformat": 4,
  "nbformat_minor": 0,
  "metadata": {
    "colab": {
      "provenance": []
    },
    "kernelspec": {
      "name": "python3",
      "display_name": "Python 3"
    },
    "language_info": {
      "name": "python"
    }
  },
  "cells": [
    {
      "cell_type": "markdown",
      "source": [
        "## Introduction to python\n",
        "\n",
        "1. Progamming Language: - A progamming language is a formal language for creating instructions for a coumputer to follow.\n",
        "- Set of rules and symbols that define the process of writing computer program.\n",
        "- Conclusion -  A programming language is like a set of special rules an symbols that you use to give instruction to a computer.\n",
        "\n",
        "Why do we need to sudy this language?\n",
        "1. Interaction with computer.\n",
        "2. Software programs.\n",
        "3. Embedded devices.\n",
        "4. Robotics.\n",
        "5. Chatgpt.\n",
        "\n",
        "How can it be done?\n",
        "1. Learning from Basics\n",
        "2. Syntecs\n",
        "3. Data Types\n",
        "4. Variables\n",
        "5. Operators\n",
        "6. Conditional Statements\n",
        "\n",
        "Why python only ?\n",
        "- Widely used in the industry.\n",
        "- Widely used in Data industry.\n",
        "- A lot of Libraries in Python.\n",
        "- Fronthead, Backhead, Data Analysis\n",
        "- Automation\n",
        "- Image Processing\n",
        "- Databases\n",
        "\n",
        "Factors of Python\n",
        "- Ease of Learning\n",
        "- Verstaile\n",
        "- Read\n",
        "- A lot of Libraries\n",
        "- Huge active Community\n",
        "\n",
        "\n",
        "2. Code - Instruction you write to the machine\n",
        "Need a platform to excute the code\n",
        "*IDE - Entegrated Development Environment*\n",
        "- VsCode, Google collab\n",
        "\n",
        "Python 1st Developed - 1991 - by Guid Van Rosseum\n",
        "\n",
        "\n",
        "\n",
        "\n"
      ],
      "metadata": {
        "id": "GEs_RJKC-T8l"
      }
    },
    {
      "cell_type": "code",
      "source": [],
      "metadata": {
        "id": "rzQXMqaZD1jR"
      },
      "execution_count": null,
      "outputs": []
    }
  ]
}