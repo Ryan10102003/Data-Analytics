{
  "nbformat": 4,
  "nbformat_minor": 0,
  "metadata": {
    "colab": {
      "provenance": []
    },
    "kernelspec": {
      "name": "python3",
      "display_name": "Python 3"
    },
    "language_info": {
      "name": "python"
    }
  },
  "cells": [
    {
      "cell_type": "markdown",
      "source": [
        "## Data Analyst vs Business Analyst\n",
        "\n",
        "\n",
        "**Data Analyst**\n",
        "1. Main Focus on Analyzing the Data\n",
        "2. Responsibility Works more on Data\n",
        "3. Skills - Good at Python, SQL, Excel, R, Data visualization and ML\n",
        "4. More On Techincal Side and Focus of all Tools and having great hold of all Tools\n",
        "\n",
        "\n",
        "\n",
        "\n",
        "**Business Analyst**\n",
        "1. Understand the Business Needs and clients\n",
        "2. Define a business\n",
        "3. Documentation\n",
        "4. Align with business Needs\n",
        "5. Skills - Focus on Business Excel, Power Bi / tableau, Communication, Strategic Thinking (Not More in Techincal but on Business)\n",
        "\n",
        "\n"
      ],
      "metadata": {
        "id": "Eqas95AjqBuh"
      }
    }
  ]
}