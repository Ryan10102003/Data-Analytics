{
  "nbformat": 4,
  "nbformat_minor": 0,
  "metadata": {
    "colab": {
      "provenance": []
    },
    "kernelspec": {
      "name": "python3",
      "display_name": "Python 3"
    },
    "language_info": {
      "name": "python"
    }
  },
  "cells": [
    {
      "cell_type": "code",
      "execution_count": null,
      "metadata": {
        "id": "G2eTbnkPI3vM"
      },
      "outputs": [],
      "source": []
    },
    {
      "cell_type": "markdown",
      "source": [
        "\n",
        "**I . Intro to Data Analytics   **                   \n",
        "Data Analytics\n",
        "Data - Information\n",
        "Analytics - Understand Data\n",
        "\n",
        "**Data Analytics\n",
        "Steps\n",
        "0. Data Collection\n",
        "1 . Clean the Data\n",
        "2. Transformation - CHange something in the data\n",
        "3. Analyze Data - Charts\n",
        "4.  Interpret Data\n",
        "\n",
        "***Why is Data analytics important?\n",
        "-To make a company decision\n",
        "- Using Data to identify the trends\n",
        "- Improve the efficiency\n",
        "- Predictive analytics\n",
        "- Enhance Customer Exp\n",
        "\n",
        "II. Global Scope of Data Analytics **bold text**\n",
        "\n",
        "1. Business Optimization - Retail Sector - Manufacturing\n",
        "2. Financial Services - Stock Market - Fraud Detection\n",
        "3. Healthcare Sector - Predictive Analytics\n",
        "4. Marketing -  Social Media Analytics\n",
        "5. Technology in AI - Recommendation System\n",
        "6. Education Sector - Enrolment Trends\n",
        "7. Sports and Entertainment - Performance of Players\n",
        "\n",
        "\n",
        "\n",
        "**III. Analytics in Different Domains**\n",
        "\n",
        "1. Healthcare - Predictive Modelling\n",
        "2. Retail and E-commerce - Customer Segmentation\n",
        "3. Finance\n",
        "4. Manufacturing - Supply Chain Optimization\n",
        "5. Transportation and Logistics - Demand Forecasting\n",
        "6. Education - Student Performance Optimization\n",
        "7. Energy and Utilities\n",
        "8. Sports  - Game Strategy Optimisation\n",
        "9. Telecommunication - Network Optimisation - Churn Analysis\n",
        "10. Agriculture\n",
        "11. Entertainment\n",
        "12. Government  - Analyze Policies, Urban  Planning\n",
        "13. Real Estate - Property Valuation and market analysis\n",
        "14. Aerospace and Defence - System Diagnostic, Threaten Detection\n",
        "\n",
        "\n",
        "\n"
      ],
      "metadata": {
        "id": "6gGiKBluI5cC"
      }
    }
  ]
}