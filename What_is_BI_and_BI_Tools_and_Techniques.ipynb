{
  "nbformat": 4,
  "nbformat_minor": 0,
  "metadata": {
    "colab": {
      "provenance": []
    },
    "kernelspec": {
      "name": "python3",
      "display_name": "Python 3"
    },
    "language_info": {
      "name": "python"
    }
  },
  "cells": [
    {
      "cell_type": "markdown",
      "source": [
        "## What is BI and its Importance\n",
        "\n",
        "Business Intelligence\n",
        "\n",
        "A process to help organisation to collect the Data and analyze the data and find out insights of the data and come to conculsion on decision.\n",
        "\n",
        "** Key points\n",
        "1. Data Intelligence - Data Collection\n",
        "2. Data Integration (Merge the Data)\n",
        "3. Data Analysis\n",
        "4. Visualization (To buid dashboard )\n",
        "5. Reporting ( Stakeholder, Clients and more)\n",
        "\n",
        "** Importance of BI\n",
        "1. Improve the Decision Making\n",
        "2. Enchance Operational Efficiency\n",
        "3. Market Understanding\n",
        "4. Performance Tracking (Players, Products etc)\n",
        "5. Increase the Productivity\n",
        "6. Customer Insights\n",
        "\n",
        "Good Domain eg\n",
        "1. Retail\n",
        "2.  Finance\n",
        "3. E-Commerce\n",
        "\n",
        "\n"
      ],
      "metadata": {
        "id": "f6iF-qG4spbt"
      }
    },
    {
      "cell_type": "markdown",
      "source": [
        "## ## BI Tools and its Techniques\n",
        "\n",
        "Tools and techniques\n",
        "\n",
        "Data Visualization Tools\n",
        "1. Power BI\n",
        "2. Tableau\n",
        "3. Click Sense / Click View\n",
        "4. Looker\n",
        "5. SQL (My SQl, Orace SQL, SSMS )\n",
        "\n",
        "\n",
        "** BI Techniques\n",
        "\n",
        "1. Data Warehousing (Eg - Snowflake, Amazon Redship)\n",
        "2. Data Mining ( Classification, Clustering, Association Rule Mining)\n",
        "3. ETL ( Extract Transform Load ) - SQL\n",
        "4. Ad- Hoc Analysis\n",
        "5. Predective Analytics\n",
        "6. KPI Tracking\n",
        "7. Data Visualization"
      ],
      "metadata": {
        "id": "4LpDKNr0u3Vc"
      }
    },
    {
      "cell_type": "code",
      "source": [],
      "metadata": {
        "id": "RApNQK_Fw3Ak"
      },
      "execution_count": null,
      "outputs": []
    }
  ]
}