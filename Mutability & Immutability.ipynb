{
 "cells": [
  {
   "cell_type": "code",
   "execution_count": 1,
   "id": "94cf4a50-454b-46ca-9859-b9fd622a3480",
   "metadata": {},
   "outputs": [],
   "source": [
    "a = 3"
   ]
  },
  {
   "cell_type": "code",
   "execution_count": 2,
   "id": "e4eb393a-e8fa-407d-a610-a36d7efc9fec",
   "metadata": {},
   "outputs": [
    {
     "data": {
      "text/plain": [
       "3"
      ]
     },
     "execution_count": 2,
     "metadata": {},
     "output_type": "execute_result"
    }
   ],
   "source": [
    "a"
   ]
  },
  {
   "cell_type": "code",
   "execution_count": 3,
   "id": "d055f07f-8af2-4edd-a556-483a56fc399c",
   "metadata": {},
   "outputs": [],
   "source": [
    "a = \"Ryan\""
   ]
  },
  {
   "cell_type": "code",
   "execution_count": 4,
   "id": "4dee67ca-e631-44ba-aae8-21da738610fc",
   "metadata": {},
   "outputs": [
    {
     "data": {
      "text/plain": [
       "'Ryan'"
      ]
     },
     "execution_count": 4,
     "metadata": {},
     "output_type": "execute_result"
    }
   ],
   "source": [
    "a"
   ]
  },
  {
   "cell_type": "code",
   "execution_count": 1,
   "id": "6ceb80bc-44c9-4c0c-b52e-75492a7eed38",
   "metadata": {},
   "outputs": [
    {
     "name": "stdin",
     "output_type": "stream",
     "text": [
      "Enter your name Neha\n"
     ]
    }
   ],
   "source": [
    "name = input(\"Enter your name\")"
   ]
  },
  {
   "cell_type": "code",
   "execution_count": 2,
   "id": "287f5ec6-7917-433b-be9d-322d4a3efe78",
   "metadata": {},
   "outputs": [
    {
     "data": {
      "text/plain": [
       "'Neha'"
      ]
     },
     "execution_count": 2,
     "metadata": {},
     "output_type": "execute_result"
    }
   ],
   "source": [
    "name"
   ]
  },
  {
   "cell_type": "code",
   "execution_count": 8,
   "id": "525fd892-f407-4bc7-b250-685c9bc8a226",
   "metadata": {},
   "outputs": [],
   "source": [
    "#a # in the memory a memory block is created with reference name a and value defined "
   ]
  },
  {
   "cell_type": "code",
   "execution_count": 4,
   "id": "2df5a801-f446-40a3-bda6-1bc52428a531",
   "metadata": {},
   "outputs": [],
   "source": [
    "b = \"Ryan\""
   ]
  },
  {
   "cell_type": "code",
   "execution_count": 5,
   "id": "d7263bae-3285-4d9b-b4eb-d869f96b8520",
   "metadata": {},
   "outputs": [
    {
     "data": {
      "text/plain": [
       "'Ryan'"
      ]
     },
     "execution_count": 5,
     "metadata": {},
     "output_type": "execute_result"
    }
   ],
   "source": [
    "b"
   ]
  },
  {
   "cell_type": "code",
   "execution_count": 10,
   "id": "02de68eb-5598-4f2d-8798-f86055174398",
   "metadata": {},
   "outputs": [
    {
     "data": {
      "text/plain": [
       "'R'"
      ]
     },
     "execution_count": 10,
     "metadata": {},
     "output_type": "execute_result"
    }
   ],
   "source": [
    "b[0]"
   ]
  },
  {
   "cell_type": "code",
   "execution_count": 11,
   "id": "d623b79d-9e58-40f6-ae19-137d5fa51e87",
   "metadata": {},
   "outputs": [
    {
     "data": {
      "text/plain": [
       "'n'"
      ]
     },
     "execution_count": 11,
     "metadata": {},
     "output_type": "execute_result"
    }
   ],
   "source": [
    "b[3]"
   ]
  },
  {
   "cell_type": "code",
   "execution_count": 12,
   "id": "39a5935c-74ce-4efc-a116-380d592cdf98",
   "metadata": {},
   "outputs": [],
   "source": [
    "# another type of data container \n",
    "list_contan = [1,2,3,4,5]\n",
    "# List is a container where it stores all things\n"
   ]
  },
  {
   "cell_type": "code",
   "execution_count": 16,
   "id": "5c647828-6fa5-40c5-a2de-213d8adabe14",
   "metadata": {},
   "outputs": [
    {
     "data": {
      "text/plain": [
       "[1, 2, 3, 4, 5]"
      ]
     },
     "execution_count": 16,
     "metadata": {},
     "output_type": "execute_result"
    }
   ],
   "source": [
    "list_contan"
   ]
  },
  {
   "cell_type": "code",
   "execution_count": 17,
   "id": "52618e9f-53fb-4556-9409-a3d5f15b6adc",
   "metadata": {},
   "outputs": [
    {
     "data": {
      "text/plain": [
       "1"
      ]
     },
     "execution_count": 17,
     "metadata": {},
     "output_type": "execute_result"
    }
   ],
   "source": [
    "list_contan[0]"
   ]
  },
  {
   "cell_type": "code",
   "execution_count": 19,
   "id": "40d1a033-4f82-47f0-a097-f5e948b47360",
   "metadata": {},
   "outputs": [
    {
     "data": {
      "text/plain": [
       "5"
      ]
     },
     "execution_count": 19,
     "metadata": {},
     "output_type": "execute_result"
    }
   ],
   "source": [
    "list_contan[4]"
   ]
  },
  {
   "cell_type": "code",
   "execution_count": 20,
   "id": "5348825e-e80a-48ac-8923-2b5cba960a88",
   "metadata": {},
   "outputs": [
    {
     "data": {
      "text/plain": [
       "list"
      ]
     },
     "execution_count": 20,
     "metadata": {},
     "output_type": "execute_result"
    }
   ],
   "source": [
    "type(list_contan)"
   ]
  },
  {
   "cell_type": "code",
   "execution_count": 21,
   "id": "22253e36-a82f-4f86-b012-4bbc7d8553c9",
   "metadata": {},
   "outputs": [
    {
     "data": {
      "text/plain": [
       "5"
      ]
     },
     "execution_count": 21,
     "metadata": {},
     "output_type": "execute_result"
    }
   ],
   "source": [
    "list_contan[-1]"
   ]
  },
  {
   "cell_type": "code",
   "execution_count": 22,
   "id": "48388032-220e-40c2-839b-e2313da8f935",
   "metadata": {},
   "outputs": [],
   "source": [
    "## Mutability > Means change \n"
   ]
  },
  {
   "cell_type": "code",
   "execution_count": 25,
   "id": "576e0c74-eab0-47e9-b2fc-d45fdf00d390",
   "metadata": {},
   "outputs": [],
   "source": [
    "list_contan[4] = \"Ryan\""
   ]
  },
  {
   "cell_type": "code",
   "execution_count": 26,
   "id": "15934083-fa79-41f4-acd0-849479d012e4",
   "metadata": {},
   "outputs": [
    {
     "data": {
      "text/plain": [
       "'Ryan'"
      ]
     },
     "execution_count": 26,
     "metadata": {},
     "output_type": "execute_result"
    }
   ],
   "source": [
    "list_contan[4]"
   ]
  },
  {
   "cell_type": "code",
   "execution_count": 27,
   "id": "3a03812f-d53d-48db-8bc5-b036ebe279b2",
   "metadata": {},
   "outputs": [
    {
     "data": {
      "text/plain": [
       "[1, 2, 3, 4, 'Ryan']"
      ]
     },
     "execution_count": 27,
     "metadata": {},
     "output_type": "execute_result"
    }
   ],
   "source": [
    "list_contan"
   ]
  },
  {
   "cell_type": "code",
   "execution_count": 28,
   "id": "a0956cef-274a-4486-8cb3-7107ddd91691",
   "metadata": {},
   "outputs": [],
   "source": [
    "list_contan[1] = 100"
   ]
  },
  {
   "cell_type": "code",
   "execution_count": 29,
   "id": "92af3750-b05d-4337-8349-28d8cfb55d7c",
   "metadata": {},
   "outputs": [
    {
     "data": {
      "text/plain": [
       "[1, 100, 3, 4, 'Ryan']"
      ]
     },
     "execution_count": 29,
     "metadata": {},
     "output_type": "execute_result"
    }
   ],
   "source": [
    "list_contan"
   ]
  },
  {
   "cell_type": "code",
   "execution_count": 31,
   "id": "cf165498-5289-406a-896d-c2bc7493ad2b",
   "metadata": {},
   "outputs": [],
   "source": [
    "## Objects / contanier can be changed after they are created are called as mutable objects or cantainer\n",
    "## List is a mutable object also called a item assignemet or which supports item assigment "
   ]
  },
  {
   "cell_type": "code",
   "execution_count": 32,
   "id": "0d9aaa68-ebe2-4b43-a0d8-82a0ccd8a795",
   "metadata": {},
   "outputs": [],
   "source": [
    "b = \"chettiar\""
   ]
  },
  {
   "cell_type": "code",
   "execution_count": 33,
   "id": "aba17dad-9f34-4407-a4d5-bf04dd93d72e",
   "metadata": {},
   "outputs": [
    {
     "data": {
      "text/plain": [
       "'c'"
      ]
     },
     "execution_count": 33,
     "metadata": {},
     "output_type": "execute_result"
    }
   ],
   "source": [
    "b [0]"
   ]
  },
  {
   "cell_type": "code",
   "execution_count": 34,
   "id": "ccde29c8-7dc4-47e4-8fcf-da3e0595275c",
   "metadata": {},
   "outputs": [
    {
     "ename": "TypeError",
     "evalue": "'str' object does not support item assignment",
     "output_type": "error",
     "traceback": [
      "\u001b[31m---------------------------------------------------------------------------\u001b[39m",
      "\u001b[31mTypeError\u001b[39m                                 Traceback (most recent call last)",
      "\u001b[36mCell\u001b[39m\u001b[36m \u001b[39m\u001b[32mIn[34]\u001b[39m\u001b[32m, line 1\u001b[39m\n\u001b[32m----> \u001b[39m\u001b[32m1\u001b[39m \u001b[43mb\u001b[49m\u001b[43m[\u001b[49m\u001b[32;43m0\u001b[39;49m\u001b[43m]\u001b[49m = \u001b[33m\"\u001b[39m\u001b[33md\u001b[39m\u001b[33m\"\u001b[39m\n",
      "\u001b[31mTypeError\u001b[39m: 'str' object does not support item assignment"
     ]
    }
   ],
   "source": [
    "b[0] = \"d\""
   ]
  },
  {
   "cell_type": "code",
   "execution_count": 35,
   "id": "c9a387fd-835b-41f2-b47f-16c74de1b4f9",
   "metadata": {},
   "outputs": [
    {
     "ename": "TypeError",
     "evalue": "'str' object does not support item assignment",
     "output_type": "error",
     "traceback": [
      "\u001b[31m---------------------------------------------------------------------------\u001b[39m",
      "\u001b[31mTypeError\u001b[39m                                 Traceback (most recent call last)",
      "\u001b[36mCell\u001b[39m\u001b[36m \u001b[39m\u001b[32mIn[35]\u001b[39m\u001b[32m, line 1\u001b[39m\n\u001b[32m----> \u001b[39m\u001b[32m1\u001b[39m \u001b[43mb\u001b[49m\u001b[43m[\u001b[49m\u001b[32;43m0\u001b[39;49m\u001b[43m]\u001b[49m = \u001b[33m\"\u001b[39m\u001b[33mRyan\u001b[39m\u001b[33m\"\u001b[39m\n",
      "\u001b[31mTypeError\u001b[39m: 'str' object does not support item assignment"
     ]
    }
   ],
   "source": [
    "b[0] = \"Ryan\""
   ]
  },
  {
   "cell_type": "code",
   "execution_count": 36,
   "id": "45e7be45-dc74-460e-b7e2-d712eb977492",
   "metadata": {},
   "outputs": [],
   "source": [
    "## Objects / contanier can be changed after they are created are called as mutable objects or cantainer\n",
    "## List is a mutable object also called a item assignemet or which supports item assigment \n",
    "# str is a type of imutable object doesnt support item assignment "
   ]
  },
  {
   "cell_type": "code",
   "execution_count": null,
   "id": "b1a6954d-6c96-4880-b1a8-fccbb19153a2",
   "metadata": {},
   "outputs": [],
   "source": []
  }
 ],
 "metadata": {
  "kernelspec": {
   "display_name": "Python 3 (ipykernel)",
   "language": "python",
   "name": "python3"
  },
  "language_info": {
   "codemirror_mode": {
    "name": "ipython",
    "version": 3
   },
   "file_extension": ".py",
   "mimetype": "text/x-python",
   "name": "python",
   "nbconvert_exporter": "python",
   "pygments_lexer": "ipython3",
   "version": "3.13.2"
  }
 },
 "nbformat": 4,
 "nbformat_minor": 5
}
