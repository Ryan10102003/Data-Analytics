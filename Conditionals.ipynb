{
 "cells": [
  {
   "cell_type": "code",
   "execution_count": 3,
   "id": "f3a3277b-4d76-42e4-9a83-41655622c4b1",
   "metadata": {},
   "outputs": [],
   "source": [
    "#Conditionals / Loop / COntrol Statements "
   ]
  },
  {
   "cell_type": "code",
   "execution_count": 8,
   "id": "dfcb1172-4245-434a-b6d9-6ef521d1e43c",
   "metadata": {},
   "outputs": [],
   "source": [
    "# conditional Statements  >> Helps you to code decision based on some pre conditions. \n",
    "# if\n",
    "# if else\n",
    "# nested if else"
   ]
  },
  {
   "cell_type": "code",
   "execution_count": null,
   "id": "d0a54cf5-12da-422f-967e-913b15740836",
   "metadata": {},
   "outputs": [],
   "source": [
    "# if statements\n",
    "# syntax \n",
    "#if condition is True:\n",
    "#    block of code will be excuted "
   ]
  },
  {
   "cell_type": "code",
   "execution_count": 9,
   "id": "548273b7-4d9e-4ea0-8bb3-5e8309fd9a16",
   "metadata": {},
   "outputs": [
    {
     "data": {
      "text/plain": [
       "False"
      ]
     },
     "execution_count": 9,
     "metadata": {},
     "output_type": "execute_result"
    }
   ],
   "source": [
    "3>4"
   ]
  },
  {
   "cell_type": "code",
   "execution_count": 10,
   "id": "8eb7b36a-ec81-4f52-8860-d99976803127",
   "metadata": {},
   "outputs": [
    {
     "data": {
      "text/plain": [
       "True"
      ]
     },
     "execution_count": 10,
     "metadata": {},
     "output_type": "execute_result"
    }
   ],
   "source": [
    "1<2"
   ]
  },
  {
   "cell_type": "code",
   "execution_count": 20,
   "id": "d44ead29-4988-40b7-93b8-c8a98487c139",
   "metadata": {},
   "outputs": [
    {
     "name": "stdout",
     "output_type": "stream",
     "text": [
      "The Number is greater than 0.\n"
     ]
    }
   ],
   "source": [
    "a = 100\n",
    "if a > 0: #Excute the if block, if the condition is true\n",
    "    print(\"The Number is greater than 0.\")"
   ]
  },
  {
   "cell_type": "code",
   "execution_count": 22,
   "id": "6fbdac2b-6091-42cf-a76c-a23cfb179106",
   "metadata": {},
   "outputs": [],
   "source": [
    "a = 100\n",
    "if a < 0: #Excute the if block, if the condition is False\n",
    "    print(\"The Number is greater than 0.\")"
   ]
  },
  {
   "cell_type": "code",
   "execution_count": 24,
   "id": "a7193f2b-1282-42ff-8a4e-0d9246aa6d03",
   "metadata": {},
   "outputs": [
    {
     "name": "stdout",
     "output_type": "stream",
     "text": [
      "I will not play cricket\n"
     ]
    }
   ],
   "source": [
    "weather = \"Rainy\"\n",
    "if weather == \"Rainy\":\n",
    "    print(\"I will not play cricket\")"
   ]
  },
  {
   "cell_type": "code",
   "execution_count": 25,
   "id": "eb8364cc-052e-40d6-810a-3b5982edf643",
   "metadata": {},
   "outputs": [],
   "source": [
    "weather = \"Sunny\"\n",
    "if weather == \"Rainy\":\n",
    "    print(\"I will not play cricket\")"
   ]
  },
  {
   "cell_type": "code",
   "execution_count": 27,
   "id": "e3740caa-a098-48d8-bf62-5e5836b5a96d",
   "metadata": {},
   "outputs": [
    {
     "ename": "IndentationError",
     "evalue": "expected an indented block after 'if' statement on line 2 (631407080.py, line 3)",
     "output_type": "error",
     "traceback": [
      "  \u001b[36mCell\u001b[39m\u001b[36m \u001b[39m\u001b[32mIn[27]\u001b[39m\u001b[32m, line 3\u001b[39m\n\u001b[31m    \u001b[39m\u001b[31mprint(\"I will not play cricket\") # Indentation is necessary\u001b[39m\n    ^\n\u001b[31mIndentationError\u001b[39m\u001b[31m:\u001b[39m expected an indented block after 'if' statement on line 2\n"
     ]
    }
   ],
   "source": [
    "weather = \"Sunny\"\n",
    "if weather == \"Rainy\":\n",
    "print(\"I will not play cricket\") # Indentation is necessary "
   ]
  },
  {
   "cell_type": "code",
   "execution_count": 34,
   "id": "467077ca-bf60-4a43-8216-3ca45c068157",
   "metadata": {},
   "outputs": [
    {
     "name": "stdout",
     "output_type": "stream",
     "text": [
      "Room Temperature\n"
     ]
    }
   ],
   "source": [
    "temp = 30\n",
    "if temp >25:\n",
    "    print(\"Room Temperature\")"
   ]
  },
  {
   "cell_type": "code",
   "execution_count": 37,
   "id": "338fd746-c2f0-43e6-8cc0-fd5a61375f8e",
   "metadata": {},
   "outputs": [
    {
     "name": "stdout",
     "output_type": "stream",
     "text": [
      "you are excellent\n"
     ]
    }
   ],
   "source": [
    "grade = 10\n",
    "if grade >= 8:\n",
    "    print(\"you are excellent\")"
   ]
  },
  {
   "cell_type": "code",
   "execution_count": 39,
   "id": "1c108f8e-40dc-463d-8c2a-344a8373dca1",
   "metadata": {},
   "outputs": [
    {
     "name": "stdout",
     "output_type": "stream",
     "text": [
      "No is even\n"
     ]
    }
   ],
   "source": [
    "No = 42\n",
    "if No % 2 == 0:\n",
    "    print(\"No is even\")"
   ]
  },
  {
   "cell_type": "code",
   "execution_count": 44,
   "id": "72bdd3a4-7611-4aff-ad4f-7efa7b2e6d36",
   "metadata": {},
   "outputs": [
    {
     "name": "stdout",
     "output_type": "stream",
     "text": [
      "This is the No of Interest\n"
     ]
    }
   ],
   "source": [
    "# IN REAL life decision are made based on multiple conditions\n",
    "\n",
    "No = 42 \n",
    "if ((No % 2 == 0) & (No > 0)):\n",
    "    print(\"This is the No of Interest\")\n",
    "    "
   ]
  },
  {
   "cell_type": "code",
   "execution_count": 49,
   "id": "bef5bacb-3edc-457a-858f-17b82a7b055c",
   "metadata": {},
   "outputs": [
    {
     "name": "stdout",
     "output_type": "stream",
     "text": [
      "you are all Rounder\n"
     ]
    }
   ],
   "source": [
    "grade = 10\n",
    "Co_Cirucular = True\n",
    "if ((grade >= 8) & (Co_Cirucular == True)):\n",
    "    print(\"you are all Rounder\")"
   ]
  },
  {
   "cell_type": "code",
   "execution_count": 56,
   "id": "fb199a84-fa79-4ced-96f4-defb5c2b3cab",
   "metadata": {},
   "outputs": [
    {
     "name": "stdout",
     "output_type": "stream",
     "text": [
      "I will watch TV\n"
     ]
    }
   ],
   "source": [
    "#if else >> execute the if block when the conditions are true else execute else block\n",
    "weather = \"S\"\n",
    "if weather == \"Sunny\":\n",
    "    print(\"I will play cricket\")\n",
    "else:\n",
    "    print(\"I will watch TV\")"
   ]
  },
  {
   "cell_type": "code",
   "execution_count": 66,
   "id": "00707f58-1b8d-43d2-a9b4-e88f2f924eb4",
   "metadata": {},
   "outputs": [
    {
     "name": "stdout",
     "output_type": "stream",
     "text": [
      "get out of the bar\n"
     ]
    }
   ],
   "source": [
    "age = 14\n",
    "if age >= 18:\n",
    "    print(\"you will be served\")\n",
    "else:\n",
    "    print(\"get out of the bar\")"
   ]
  },
  {
   "cell_type": "code",
   "execution_count": 69,
   "id": "b9f2e7ff-518f-4ace-85d8-f1ee2ce4d135",
   "metadata": {},
   "outputs": [
    {
     "name": "stdout",
     "output_type": "stream",
     "text": [
      " Please Drive\n"
     ]
    }
   ],
   "source": [
    "age = 21\n",
    "if age >= 18:\n",
    "    print(\" Please Drive\")\n",
    "else:\n",
    "    print(\"Dont Drive\")"
   ]
  },
  {
   "cell_type": "code",
   "execution_count": 74,
   "id": "2d628d9c-f8fd-43c4-a9d0-e31abb738b01",
   "metadata": {},
   "outputs": [
    {
     "name": "stdout",
     "output_type": "stream",
     "text": [
      "x is greater than 5\n"
     ]
    }
   ],
   "source": [
    "x = 16\n",
    "if x > 5:\n",
    "    print(\"x is greater than 5\")\n",
    "else:\n",
    "    print(\"The no is less than 5\")"
   ]
  },
  {
   "cell_type": "code",
   "execution_count": 76,
   "id": "aac804f4-4127-47a6-bf3c-ca96e23d858d",
   "metadata": {},
   "outputs": [
    {
     "data": {
      "text/plain": [
       "0"
      ]
     },
     "execution_count": 76,
     "metadata": {},
     "output_type": "execute_result"
    }
   ],
   "source": [
    "# To check is no is even \n",
    "6 % 2"
   ]
  },
  {
   "cell_type": "code",
   "execution_count": 80,
   "id": "71e6aeee-acaa-42d7-8b74-e237f8a8b005",
   "metadata": {},
   "outputs": [
    {
     "name": "stdout",
     "output_type": "stream",
     "text": [
      "Even\n"
     ]
    }
   ],
   "source": [
    "num = 8\n",
    "if num % 2 == 0:\n",
    "    print(\"Even\")\n",
    "else:\n",
    "    print(\"Odd\")"
   ]
  },
  {
   "cell_type": "code",
   "execution_count": 83,
   "id": "f7be6388-d9e3-451e-8035-3aca4eb5b635",
   "metadata": {},
   "outputs": [
    {
     "name": "stdout",
     "output_type": "stream",
     "text": [
      "Repeat the Class\n"
     ]
    }
   ],
   "source": [
    "score = 30\n",
    "if score >= 33:\n",
    "    print(\"You are pass\")\n",
    "else:\n",
    "    print(\"Repeat the Class\")"
   ]
  },
  {
   "cell_type": "code",
   "execution_count": 84,
   "id": "8e2b810d-0961-421a-a27f-7253f839d2d2",
   "metadata": {},
   "outputs": [],
   "source": [
    "#IF else >> Two conditions"
   ]
  },
  {
   "cell_type": "code",
   "execution_count": 95,
   "id": "2e0432e7-e48a-4e95-97ce-3b875e571d0b",
   "metadata": {},
   "outputs": [
    {
     "name": "stdout",
     "output_type": "stream",
     "text": [
      "The Number is huge\n"
     ]
    }
   ],
   "source": [
    "a = 100000\n",
    "if a <100:\n",
    "          print(\"This block will be executed is a is lesser than 100\")\n",
    "elif a > 2000:\n",
    "    print(\"The Number is huge\")\n",
    "elif a> 100:\n",
    "    print(\"This block will be executed if a is greater than 100\")\n",
    "else:\n",
    "    print(\"The Number is equal to 100\")"
   ]
  },
  {
   "cell_type": "code",
   "execution_count": 100,
   "id": "d4276fa1-3624-4539-8dda-e70735f740cb",
   "metadata": {},
   "outputs": [
    {
     "name": "stdout",
     "output_type": "stream",
     "text": [
      "Grade C\n"
     ]
    }
   ],
   "source": [
    "score = 75\n",
    "if score >= 90:\n",
    "    print('Grade A')\n",
    "elif (80<= score < 90):\n",
    "    print('Grade B')\n",
    "elif (70<= score < 80):\n",
    "    print('Grade C')\n",
    "else:\n",
    "    print('Grade D')\n"
   ]
  },
  {
   "cell_type": "code",
   "execution_count": 105,
   "id": "aef67ef4-0117-4c1f-96b8-e3925aa632f6",
   "metadata": {},
   "outputs": [
    {
     "name": "stdout",
     "output_type": "stream",
     "text": [
      "You are Senior Citizen\n"
     ]
    }
   ],
   "source": [
    "age = 80\n",
    "if age < 18:\n",
    "    print(' YOu are minor')\n",
    "elif 18<age <= 65:\n",
    "    print('You are adult')\n",
    "else:\n",
    "    print('You are Senior Citizen')"
   ]
  },
  {
   "cell_type": "code",
   "execution_count": 109,
   "id": "60641491-2f15-430e-9095-ff31efbcf1e6",
   "metadata": {},
   "outputs": [
    {
     "name": "stdout",
     "output_type": "stream",
     "text": [
      "Both x and y are greater than 5\n"
     ]
    }
   ],
   "source": [
    "#nested if else >> yu can have multiple if else inside of if else \n",
    "x = 7\n",
    "y = 6\n",
    "if x>5:\n",
    "    if y>5:\n",
    "        print('Both x and y are greater than 5')\n",
    "    else:\n",
    "        print(' X is greater than 5 but y is less than 5')\n",
    "else:\n",
    "    print('X is not greater than 5')"
   ]
  },
  {
   "cell_type": "code",
   "execution_count": 117,
   "id": "e7b4145e-60ab-4301-8032-0195c90aa0ac",
   "metadata": {},
   "outputs": [
    {
     "name": "stdout",
     "output_type": "stream",
     "text": [
      "VIP status is only for Adult\n"
     ]
    }
   ],
   "source": [
    "is_vip = True\n",
    "age = 16\n",
    "if is_vip:\n",
    "    if age >= 18:\n",
    "        if age < 65:\n",
    "            print(' Welcome to VIP customer')\n",
    "        else:\n",
    "            print('You are VIP and very Important for us')\n",
    "    else:\n",
    "        print('VIP status is only for Adult')"
   ]
  },
  {
   "cell_type": "code",
   "execution_count": 120,
   "id": "15eaa408-5d20-4c76-ae74-6428a91f46bb",
   "metadata": {},
   "outputs": [
    {
     "name": "stdin",
     "output_type": "stream",
     "text": [
      "Enter a No 5\n"
     ]
    },
    {
     "name": "stdout",
     "output_type": "stream",
     "text": [
      "The No is 5 <class 'str'>\n"
     ]
    }
   ],
   "source": [
    "a = input('Enter a No')\n",
    "print('The No is',a, type(a))"
   ]
  },
  {
   "cell_type": "code",
   "execution_count": 121,
   "id": "0e5aecc1-01cd-4877-8429-5298c33f2cb9",
   "metadata": {},
   "outputs": [
    {
     "name": "stdin",
     "output_type": "stream",
     "text": [
      "Enter a No 5\n"
     ]
    }
   ],
   "source": [
    "a = int(input('Enter a No'))"
   ]
  },
  {
   "cell_type": "code",
   "execution_count": 122,
   "id": "d40ff4e4-bd0b-42a3-b54b-ad87df17bd5d",
   "metadata": {},
   "outputs": [
    {
     "data": {
      "text/plain": [
       "int"
      ]
     },
     "execution_count": 122,
     "metadata": {},
     "output_type": "execute_result"
    }
   ],
   "source": [
    "type(a)"
   ]
  },
  {
   "cell_type": "code",
   "execution_count": 124,
   "id": "ec8f3795-8ed1-4cc4-9a5b-60bbd852e051",
   "metadata": {},
   "outputs": [
    {
     "name": "stdin",
     "output_type": "stream",
     "text": [
      "Enter a No -5\n"
     ]
    },
    {
     "name": "stdout",
     "output_type": "stream",
     "text": [
      "This is a negative NO\n"
     ]
    }
   ],
   "source": [
    "a = int(input('Enter a No'))\n",
    "if a >= 100:\n",
    "    print('The No is Greater than 100')\n",
    "elif 0<a<100:\n",
    "    print('The No is Positive No')\n",
    "else:\n",
    "    print('This is a negative NO')"
   ]
  },
  {
   "cell_type": "code",
   "execution_count": 142,
   "id": "0da884ab-8fb3-4b96-a002-f88abb8f6297",
   "metadata": {},
   "outputs": [
    {
     "name": "stdin",
     "output_type": "stream",
     "text": [
      "Please Enter you name Ryan\n",
      "Please Enter your Email ryan@gmail.com\n",
      "Please Enter your password Ryannn\n"
     ]
    },
    {
     "name": "stdout",
     "output_type": "stream",
     "text": [
      "Login Successful\n"
     ]
    }
   ],
   "source": [
    "name = input('Please Enter you name')\n",
    "email = input('Please Enter your Email')\n",
    "password = input('Please Enter your password')\n",
    "if name == \"\":\n",
    "    print('Please Enter a valid name cannot be empty')\n",
    "else:\n",
    "    if \"@\" not in email:\n",
    "         print('Please enter a valid email')\n",
    "    else:\n",
    "        if len(password) <0:\n",
    "            print('No password entered please provide a valid pass')\n",
    "        else:\n",
    "            print('Login Successful')\n",
    "            "
   ]
  }
 ],
 "metadata": {
  "kernelspec": {
   "display_name": "Python 3 (ipykernel)",
   "language": "python",
   "name": "python3"
  },
  "language_info": {
   "codemirror_mode": {
    "name": "ipython",
    "version": 3
   },
   "file_extension": ".py",
   "mimetype": "text/x-python",
   "name": "python",
   "nbconvert_exporter": "python",
   "pygments_lexer": "ipython3",
   "version": "3.13.2"
  }
 },
 "nbformat": 4,
 "nbformat_minor": 5
}
